{
 "cells": [
  {
   "cell_type": "code",
   "execution_count": 60,
   "metadata": {},
   "outputs": [],
   "source": [
    "import torch \n",
    "import os\n",
    "import torch.nn as nn\n",
    "import seaborn\n",
    "import koreanize_matplotlib\n",
    "import torch.nn.functional as F\n",
    "import pandas as pd\n",
    "from torch.utils.data import Dataset, DataLoader\n",
    "from torchtext.vocab import build_vocab_from_iterator\n",
    "from bareunpy import Tagger\n",
    "from konlpy.tag import Mecab\n",
    "\n",
    "# DEVICE = torch.device('cuda' if torch.cuda.is_available() else 'cpu')\n",
    "DEVICE = 'cpu'"
   ]
  },
  {
   "cell_type": "code",
   "execution_count": 61,
   "metadata": {},
   "outputs": [
    {
     "data": {
      "text/plain": [
       "'!\"#$%&\\'()*+,-./:;<=>?@[\\\\]^_`{|}~'"
      ]
     },
     "execution_count": 61,
     "metadata": {},
     "output_type": "execute_result"
    }
   ],
   "source": [
    "import string\n",
    "\n",
    "PUNCTUATION = string.punctuation\n",
    "PUNCTUATION"
   ]
  },
  {
   "cell_type": "code",
   "execution_count": 62,
   "metadata": {},
   "outputs": [],
   "source": [
    "ROOT = './DATA/TABLES/'\n",
    "\n",
    "tables = []\n",
    "names = os.listdir(ROOT)\n",
    "for x in names: tables.append(pd.read_csv(ROOT+x, encoding='utf-8'))\n",
    "\n"
   ]
  },
  {
   "cell_type": "code",
   "execution_count": 63,
   "metadata": {},
   "outputs": [],
   "source": [
    "for idx, table in enumerate(tables):\n",
    "    tables[idx] = table.melt().reindex(columns=['value', 'variable'])\n",
    "    tables[idx].reset_index(drop=True, inplace=True)\n"
   ]
  },
  {
   "cell_type": "code",
   "execution_count": 64,
   "metadata": {},
   "outputs": [
    {
     "data": {
      "text/plain": [
       "['경상도.csv', '강원도.csv', '전라도.csv', '충청도.csv', '제주도.csv']"
      ]
     },
     "execution_count": 64,
     "metadata": {},
     "output_type": "execute_result"
    }
   ],
   "source": [
    "names\n"
   ]
  },
  {
   "cell_type": "code",
   "execution_count": 65,
   "metadata": {},
   "outputs": [],
   "source": [
    "# 제주도로 설정하기\n",
    "TABLETARGET = tables[-1]"
   ]
  },
  {
   "cell_type": "code",
   "execution_count": 66,
   "metadata": {},
   "outputs": [
    {
     "name": "stdout",
     "output_type": "stream",
     "text": [
      "<class 'pandas.core.frame.DataFrame'>\n",
      "RangeIndex: 101998 entries, 0 to 101997\n",
      "Data columns (total 2 columns):\n",
      " #   Column    Non-Null Count   Dtype \n",
      "---  ------    --------------   ----- \n",
      " 0   value     101998 non-null  object\n",
      " 1   variable  101998 non-null  object\n",
      "dtypes: object(2)\n",
      "memory usage: 1.6+ MB\n"
     ]
    }
   ],
   "source": [
    "TABLETARGET.info()"
   ]
  },
  {
   "cell_type": "code",
   "execution_count": 67,
   "metadata": {},
   "outputs": [],
   "source": [
    "TABLETARGET.drop_duplicates(inplace=True)"
   ]
  },
  {
   "cell_type": "code",
   "execution_count": 68,
   "metadata": {},
   "outputs": [
    {
     "name": "stdout",
     "output_type": "stream",
     "text": [
      "<class 'pandas.core.frame.DataFrame'>\n",
      "Int64Index: 39605 entries, 0 to 101997\n",
      "Data columns (total 2 columns):\n",
      " #   Column    Non-Null Count  Dtype \n",
      "---  ------    --------------  ----- \n",
      " 0   value     39605 non-null  object\n",
      " 1   variable  39605 non-null  object\n",
      "dtypes: object(2)\n",
      "memory usage: 928.2+ KB\n"
     ]
    }
   ],
   "source": [
    "TABLETARGET.info()"
   ]
  },
  {
   "cell_type": "code",
   "execution_count": 69,
   "metadata": {},
   "outputs": [],
   "source": [
    "# zip_tables = list(zip(tables, names))\n",
    "\n",
    "class TableDataset(Dataset):\n",
    "    \n",
    "    def __init__(self, table):\n",
    "        super().__init__()\n",
    "        self.table = table\n",
    "        self.category = self.table['variable'].astype('category')\n",
    "        self.label = self.category.cat.codes\n",
    "        self.catlabel = pd.concat([self.category, self.label], axis=1)\n",
    "        # print(type(self.label), type(self.table), self.label.shape, self.table.shape)\n",
    "        \n",
    "    def __len__(self):\n",
    "        number = len(self.table)\n",
    "        return number\n",
    "    \n",
    "    def __getitem__(self, idx):\n",
    "        # 데이터 로드\n",
    "        label = self.label.iloc[idx]\n",
    "        sentence = self.table['value'].iloc[idx]\n",
    "        \n",
    "        return label, sentence\n",
    "        \n",
    "# 토큰화 함수\n",
    "from jamo import h2j, j2hcj\n",
    "def tokenize(iterator, tokenizer):\n",
    "    for label, text in iterator:\n",
    "        yield tokenizer(text)\n",
    "\n",
    "def tokenize_baerun(iterator, tokenizer):\n",
    "    for label, text in iterator:\n",
    "        yield tokenizer.tags('안녕하세요').morphs()"
   ]
  },
  {
   "cell_type": "code",
   "execution_count": 70,
   "metadata": {},
   "outputs": [
    {
     "data": {
      "text/plain": [
       "(사투리    16957\n",
       " 표준어    14727\n",
       " Name: variable, dtype: int64,\n",
       " 사투리    4264\n",
       " 표준어    3657\n",
       " Name: variable, dtype: int64)"
      ]
     },
     "execution_count": 70,
     "metadata": {},
     "output_type": "execute_result"
    }
   ],
   "source": [
    "train = TABLETARGET.sample(frac=0.8)\n",
    "test = TABLETARGET.drop(train.index)\n",
    "\n",
    "train.reset_index(drop=True, inplace=True)\n",
    "test.reset_index(drop=True, inplace=True)\n",
    "\n",
    "train.dropna(inplace=True)\n",
    "test.dropna(inplace=True)\n",
    "\n",
    "\n",
    "train['variable'].value_counts(), test['variable'].value_counts()"
   ]
  },
  {
   "cell_type": "code",
   "execution_count": 71,
   "metadata": {},
   "outputs": [
    {
     "name": "stdout",
     "output_type": "stream",
     "text": [
      "<class 'pandas.core.frame.DataFrame'>\n",
      "RangeIndex: 31684 entries, 0 to 31683\n",
      "Data columns (total 2 columns):\n",
      " #   Column    Non-Null Count  Dtype \n",
      "---  ------    --------------  ----- \n",
      " 0   value     31684 non-null  object\n",
      " 1   variable  31684 non-null  object\n",
      "dtypes: object(2)\n",
      "memory usage: 495.2+ KB\n"
     ]
    }
   ],
   "source": [
    "train.info()"
   ]
  },
  {
   "cell_type": "code",
   "execution_count": 72,
   "metadata": {},
   "outputs": [
    {
     "data": {
      "text/plain": [
       "(0, '독 잡을 때 막 떼분 물을 지치민 독털 잘 뽑아지메')"
      ]
     },
     "execution_count": 72,
     "metadata": {},
     "output_type": "execute_result"
    }
   ],
   "source": [
    "\n",
    "# 데이터셋 정의\n",
    "gyd_train = TableDataset(train)\n",
    "gyd_test = TableDataset(test)\n",
    "gyd_total = TableDataset(TABLETARGET)\n",
    "\n",
    "\n",
    "gyd_test[0]"
   ]
  },
  {
   "cell_type": "code",
   "execution_count": 73,
   "metadata": {},
   "outputs": [
    {
     "data": {
      "text/plain": [
       "((31684, 2), 31684, (7921, 2))"
      ]
     },
     "execution_count": 73,
     "metadata": {},
     "output_type": "execute_result"
    }
   ],
   "source": [
    "train.shape, gyd_train.__len__(), test.shape"
   ]
  },
  {
   "cell_type": "code",
   "execution_count": 74,
   "metadata": {},
   "outputs": [],
   "source": [
    "UNK = '<unk>'\n",
    "PAD = '<pad>'\n",
    "\n",
    "# 토큰화 인스턴스 생성 \n",
    "with open('./hangul_stopword.txt') as f:\n",
    "    stopwords = f.read().splitlines()\n",
    "\n",
    "def tokenizer(x):\n",
    "    result = Mecab().morphs(x)\n",
    "    for idx, word in enumerate(result):\n",
    "        for char in word:\n",
    "            if char in PUNCTUATION:\n",
    "                result[idx] = result[idx].replace(char, '')\n",
    "                # print('punc_deleted')\n",
    "        # if word in stopwords:\n",
    "        #     result.pop(idx)\n",
    "            # print('stop_deleted',idx)\n",
    "    return result\n",
    "\n",
    "\n",
    "API_KEY = 'koba-TXPHP7A-AOWEX4Y-WCTFG3I-RFAISLA'\n",
    "tokenizer_baerun = Tagger(API_KEY, '127.0.0.1', 5757)\n",
    "\n",
    "\n",
    "# tokenizer_baerun = tokenizer_baerun.tags('안녕하세요').morphs()\n",
    "# tokenizer_baerun"
   ]
  },
  {
   "cell_type": "code",
   "execution_count": 75,
   "metadata": {},
   "outputs": [],
   "source": [
    "import pickle\n",
    "VOCAFILE = './vocab_jeju.pkl'\n",
    "if not os.path.exists(VOCAFILE):\n",
    "    # 단어사전 생성하기 \n",
    "    vocab = build_vocab_from_iterator(tokenize(gyd_train, tokenizer), specials=[UNK, PAD], special_first=True)\n",
    "    # vocab = build_vocab_from_iterator(tokenize_baerun(gyd_train, tokenizer_baerun), specials=[UNK, PAD])\n",
    "\n",
    "    # default unk\n",
    "    vocab.set_default_index(vocab[UNK])\n",
    "    with open(VOCAFILE, 'wb') as f:\n",
    "        pickle.dump(vocab, f)\n",
    "else:\n",
    "    with open(VOCAFILE, 'rb') as f:\n",
    "        vocab = pickle.load(f)\n",
    "\n"
   ]
  },
  {
   "cell_type": "code",
   "execution_count": 76,
   "metadata": {},
   "outputs": [
    {
     "data": {
      "text/plain": [
       "['__class__',\n",
       " '__contains__',\n",
       " '__delattr__',\n",
       " '__dir__',\n",
       " '__doc__',\n",
       " '__eq__',\n",
       " '__format__',\n",
       " '__ge__',\n",
       " '__getattribute__',\n",
       " '__getitem__',\n",
       " '__getstate__',\n",
       " '__gt__',\n",
       " '__hash__',\n",
       " '__init__',\n",
       " '__init_subclass__',\n",
       " '__le__',\n",
       " '__len__',\n",
       " '__lt__',\n",
       " '__module__',\n",
       " '__ne__',\n",
       " '__new__',\n",
       " '__reduce__',\n",
       " '__reduce_ex__',\n",
       " '__repr__',\n",
       " '__setattr__',\n",
       " '__setstate__',\n",
       " '__sizeof__',\n",
       " '__str__',\n",
       " '__subclasshook__',\n",
       " 'append_token',\n",
       " 'default_index_',\n",
       " 'get_default_index',\n",
       " 'get_itos',\n",
       " 'get_stoi',\n",
       " 'insert_token',\n",
       " 'itos_',\n",
       " 'lookup_indices',\n",
       " 'lookup_token',\n",
       " 'lookup_tokens',\n",
       " 'set_default_index']"
      ]
     },
     "execution_count": 76,
     "metadata": {},
     "output_type": "execute_result"
    }
   ],
   "source": [
    "dir(vocab.vocab)"
   ]
  },
  {
   "cell_type": "code",
   "execution_count": 77,
   "metadata": {},
   "outputs": [
    {
     "data": {
      "text/plain": [
       "[20, 41]"
      ]
     },
     "execution_count": 77,
     "metadata": {},
     "output_type": "execute_result"
    }
   ],
   "source": [
    "vocab(['먹', '것'])"
   ]
  },
  {
   "cell_type": "code",
   "execution_count": 78,
   "metadata": {},
   "outputs": [
    {
     "data": {
      "text/plain": [
       "[20, 41, 4, 41]"
      ]
     },
     "execution_count": 78,
     "metadata": {},
     "output_type": "execute_result"
    }
   ],
   "source": [
    "vocab(['먹', '것', '이', '것'])"
   ]
  },
  {
   "cell_type": "code",
   "execution_count": 79,
   "metadata": {},
   "outputs": [],
   "source": [
    "def text_pipeline(x):\n",
    "    return vocab(tokenizer(x))\n",
    "\n",
    "# def label_pipeline(x):\n",
    "#     # 데이터셋에서 라벨을 0부터 잡았으므로 그대로 정수 반환\n",
    "#     return int(x)\n",
    "\n",
    "def collate_batch(batch):\n",
    "    labels, text_list, offsets = [], [], [0]\n",
    "    \n",
    "    for label, text in batch:\n",
    "        \n",
    "        labels.append(label)\n",
    "        \n",
    "        processed_text = torch.tensor(text_pipeline(text), dtype=torch.int64)\n",
    "        text_list.append(processed_text)\n",
    "        \n",
    "        offsets.append(processed_text.size(0))\n",
    "        \n",
    "        \n",
    "    labels = torch.tensor(labels, dtype=torch.int64).to(DEVICE)\n",
    "    offsets = torch.tensor(offsets[:-1]).cumsum(dim=0).to(DEVICE)\n",
    "    text_list = torch.cat(text_list).to(DEVICE)\n",
    "    \n",
    "    return labels, text_list, offsets\n"
   ]
  },
  {
   "cell_type": "code",
   "execution_count": 80,
   "metadata": {},
   "outputs": [],
   "source": [
    "BATCHSIZE = 10000\n",
    "\n",
    "\n",
    "trainloader = DataLoader(gyd_train, batch_size=BATCHSIZE, collate_fn=collate_batch, num_workers=64)\n",
    "testloader = DataLoader(gyd_test, batch_size=BATCHSIZE, collate_fn=collate_batch, num_workers=64)\n"
   ]
  },
  {
   "cell_type": "code",
   "execution_count": 81,
   "metadata": {},
   "outputs": [],
   "source": [
    "num_Class = len(gyd_train.category.cat.categories)\n",
    "vocab_size = len(vocab)\n",
    "embed_dim = 15\n",
    "hidden_dim = 30"
   ]
  },
  {
   "cell_type": "code",
   "execution_count": 82,
   "metadata": {},
   "outputs": [],
   "source": [
    "class TextStdDia(nn.Module):\n",
    "    def __init__(self, vocab_size, embed_dim, hidden_dim, num_Class):\n",
    "        super().__init__()\n",
    "        self.embedding = nn.EmbeddingBag(vocab_size, embed_dim)\n",
    "        self.rnn = nn.LSTM(embed_dim, hidden_dim, batch_first=True, bidirectional=True)\n",
    "        self.fc = nn.Linear(hidden_dim*2, 1)\n",
    "        self.sigmoid = nn.Sigmoid()\n",
    "        self.init_weights()\n",
    "        \n",
    "    def init_weights(self):\n",
    "        initrange = 0.5\n",
    "        self.embedding.weight.data.uniform_(-initrange, initrange)\n",
    "        self.fc.weight.data.uniform_(-initrange, initrange)\n",
    "        self.fc.bias.data.zero_()\n",
    "        \n",
    "    def forward(self, text, offsets):\n",
    "        embedded = self.embedding(text, offsets)\n",
    "        output, _hidden = self.rnn(embedded)\n",
    "        return self.sigmoid(self.fc(output))\n",
    "\n",
    "\n",
    "num_Class = len(gyd_train.category.cat.categories)\n",
    "vocab_size = len(vocab)\n",
    "embed_dim = 15\n",
    "hidden_dim = 30\n",
    "\n",
    "model = TextStdDia(vocab_size, embed_dim, hidden_dim, num_Class).to(DEVICE)\n",
    "criterion = nn.BCELoss()\n",
    "optimizer = torch.optim.Adam(model.parameters(), lr=0.001)\n",
    "scheduler = torch.optim.lr_scheduler.ReduceLROnPlateau(optimizer, 'min', patience=3)\n",
    "\n",
    "\n"
   ]
  },
  {
   "cell_type": "code",
   "execution_count": 83,
   "metadata": {},
   "outputs": [],
   "source": [
    "from torchmetrics.classification import BinaryF1Score, BinaryAccuracy, BinaryConfusionMatrix\n",
    "import numpy as np\n",
    "\n",
    "def train(model, iterator, optimizer, criterion, scheduler):\n",
    "    model.train()\n",
    "    lossagg = []\n",
    "    f1 = BinaryF1Score().to(DEVICE)\n",
    "    cm = BinaryConfusionMatrix().to(DEVICE)\n",
    "    \n",
    "    \n",
    "    for label, text, offsets in iterator:\n",
    "        label = label.unsqueeze(1).float()\n",
    "\n",
    "        predictions = model(text, offsets)\n",
    "        loss = criterion(predictions, label)\n",
    "        \n",
    "        optimizer.zero_grad()\n",
    "        loss.backward()\n",
    "        optimizer.step()\n",
    "        \n",
    "        lossagg.append(loss.item())\n",
    "        f1(predictions, label)\n",
    "        cm(predictions, label)\n",
    "    \n",
    "    print(f\"Train F1 score : {f1.compute()}\")\n",
    "    print(f\"Train Confusion Matrix : \\n{cm.compute()}\")\n",
    "\n",
    "    return f1.compute().cpu().item(), np.mean(lossagg)\n",
    "    \n",
    "def evaluate(model, iterator, criterion):\n",
    "    model.eval()\n",
    "    lossagg = []\n",
    "    f1 = BinaryF1Score().to(DEVICE)\n",
    "    cm = BinaryConfusionMatrix().to(DEVICE)\n",
    "    \n",
    "    \n",
    "    with torch.no_grad():\n",
    "        for label, text, offsets in iterator:\n",
    "            label = label.unsqueeze(1).float()\n",
    "            \n",
    "            predictions = model(text, offsets)\n",
    "            loss = criterion(predictions, label)\n",
    "            \n",
    "            lossagg.append(loss.item())\n",
    "            f1(predictions, label)\n",
    "            cm(predictions, label)\n",
    "            \n",
    "    print(f\"Test F1 score : {f1.compute()}\")\n",
    "    print(f\"Test Confusion Matrix : \\n{cm.compute()}\")\n",
    "    \n",
    "    return f1.compute().cpu().item(), np.mean(lossagg), cm.compute().cpu().numpy()\n"
   ]
  },
  {
   "cell_type": "markdown",
   "metadata": {},
   "source": [
    "### 병목 증상 설명\n",
    "\n",
    "- 기존 이미지의 경우에는 GPU에서 돌리는 것이 효과적\n",
    "- 하지만 단어 태깅이 CPU 에서 이루어지므로 자연어 처리에서는 CPU가 더 효과적임\n"
   ]
  },
  {
   "cell_type": "code",
   "execution_count": 84,
   "metadata": {},
   "outputs": [
    {
     "name": "stdout",
     "output_type": "stream",
     "text": [
      "Epoch 1 학습 및 평가 결과\n",
      "Train F1 score : 0.6173864603042603\n",
      "Train Confusion Matrix : \n",
      "tensor([[ 1879, 15078],\n",
      "        [ 1418, 13309]])\n",
      "Test F1 score : 0.002729257568717003\n",
      "Test Confusion Matrix : \n",
      "tensor([[4262,    2],\n",
      "        [3652,    5]])\n",
      "Epoch 2 학습 및 평가 결과\n",
      "Train F1 score : 0.0017633095849305391\n",
      "Train Confusion Matrix : \n",
      "tensor([[16952,     5],\n",
      "        [14714,    13]])\n",
      "Test F1 score : 0.0\n",
      "Test Confusion Matrix : \n",
      "tensor([[4264,    0],\n",
      "        [3657,    0]])\n",
      "Epoch 3 학습 및 평가 결과\n",
      "Train F1 score : 0.0\n",
      "Train Confusion Matrix : \n",
      "tensor([[16957,     0],\n",
      "        [14727,     0]])\n",
      "Test F1 score : 0.0\n",
      "Test Confusion Matrix : \n",
      "tensor([[4264,    0],\n",
      "        [3657,    0]])\n",
      "Epoch 4 학습 및 평가 결과\n",
      "Train F1 score : 0.0\n",
      "Train Confusion Matrix : \n",
      "tensor([[16957,     0],\n",
      "        [14727,     0]])\n",
      "Test F1 score : 0.0\n",
      "Test Confusion Matrix : \n",
      "tensor([[4264,    0],\n",
      "        [3657,    0]])\n",
      "Epoch 5 학습 및 평가 결과\n",
      "Train F1 score : 0.0\n",
      "Train Confusion Matrix : \n",
      "tensor([[16957,     0],\n",
      "        [14727,     0]])\n",
      "Test F1 score : 0.0010931948199868202\n",
      "Test Confusion Matrix : \n",
      "tensor([[4264,    0],\n",
      "        [3655,    2]])\n",
      "Epoch 6 학습 및 평가 결과\n",
      "Train F1 score : 0.004605798050761223\n",
      "Train Confusion Matrix : \n",
      "tensor([[16954,     3],\n",
      "        [14693,    34]])\n",
      "Test F1 score : 0.02856372855603695\n",
      "Test Confusion Matrix : \n",
      "tensor([[4263,    1],\n",
      "        [3604,   53]])\n",
      "Epoch 7 학습 및 평가 결과\n",
      "Train F1 score : 0.033439915627241135\n",
      "Train Confusion Matrix : \n",
      "tensor([[16923,    34],\n",
      "        [14476,   251]])\n",
      "Test F1 score : 0.05368057265877724\n",
      "Test Confusion Matrix : \n",
      "tensor([[4259,    5],\n",
      "        [3556,  101]])\n",
      "Epoch 8 학습 및 평가 결과\n",
      "Train F1 score : 0.03958817571401596\n",
      "Train Confusion Matrix : \n",
      "tensor([[16927,    30],\n",
      "        [14429,   298]])\n",
      "Test F1 score : 0.03807991370558739\n",
      "Test Confusion Matrix : \n",
      "tensor([[4263,    1],\n",
      "        [3586,   71]])\n",
      "Epoch 9 학습 및 평가 결과\n",
      "Train F1 score : 0.028494983911514282\n",
      "Train Confusion Matrix : \n",
      "tensor([[16947,    10],\n",
      "        [14514,   213]])\n",
      "Test F1 score : 0.038616251200437546\n",
      "Test Confusion Matrix : \n",
      "tensor([[4264,    0],\n",
      "        [3585,   72]])\n",
      "Epoch 10 학습 및 평가 결과\n",
      "Train F1 score : 0.03297070041298866\n",
      "Train Confusion Matrix : \n",
      "tensor([[16948,     9],\n",
      "        [14480,   247]])\n",
      "Test F1 score : 0.07773109525442123\n",
      "Test Confusion Matrix : \n",
      "tensor([[4261,    3],\n",
      "        [3509,  148]])\n",
      "Epoch 11 학습 및 평가 결과\n",
      "Train F1 score : 0.06910090148448944\n",
      "Train Confusion Matrix : \n",
      "tensor([[16930,    27],\n",
      "        [14199,   528]])\n",
      "Test F1 score : 0.2060190886259079\n",
      "Test Confusion Matrix : \n",
      "tensor([[4255,    9],\n",
      "        [3236,  421]])\n",
      "Epoch 12 학습 및 평가 결과\n",
      "Train F1 score : 0.166327103972435\n",
      "Train Confusion Matrix : \n",
      "tensor([[16834,   123],\n",
      "        [13380,  1347]])\n",
      "Test F1 score : 0.4390243887901306\n",
      "Test Confusion Matrix : \n",
      "tensor([[4241,   23],\n",
      "        [2622, 1035]])\n",
      "Epoch 13 학습 및 평가 결과\n",
      "Train F1 score : 0.31761759519577026\n",
      "Train Confusion Matrix : \n",
      "tensor([[16572,   385],\n",
      "        [11874,  2853]])\n",
      "Test F1 score : 0.6215763092041016\n",
      "Test Confusion Matrix : \n",
      "tensor([[4222,   42],\n",
      "        [1989, 1668]])\n",
      "Epoch 14 학습 및 평가 결과\n",
      "Train F1 score : 0.43190622329711914\n",
      "Train Confusion Matrix : \n",
      "tensor([[16301,   656],\n",
      "        [10490,  4237]])\n",
      "Test F1 score : 0.7169811129570007\n",
      "Test Confusion Matrix : \n",
      "tensor([[4215,   49],\n",
      "        [1586, 2071]])\n",
      "Epoch 15 학습 및 평가 결과\n",
      "Train F1 score : 0.4962325990200043\n",
      "Train Confusion Matrix : \n",
      "tensor([[16117,   840],\n",
      "        [ 9590,  5137]])\n",
      "Test F1 score : 0.784013032913208\n",
      "Test Confusion Matrix : \n",
      "tensor([[4194,   70],\n",
      "        [1254, 2403]])\n",
      "Epoch 16 학습 및 평가 결과\n",
      "Train F1 score : 0.5652311444282532\n",
      "Train Confusion Matrix : \n",
      "tensor([[15842,  1115],\n",
      "        [ 8486,  6241]])\n",
      "Test F1 score : 0.853714108467102\n",
      "Test Confusion Matrix : \n",
      "tensor([[4148,  116],\n",
      "        [ 847, 2810]])\n",
      "Epoch 17 학습 및 평가 결과\n",
      "Train F1 score : 0.6499524116516113\n",
      "Train Confusion Matrix : \n",
      "tensor([[15368,  1589],\n",
      "        [ 6872,  7855]])\n",
      "Test F1 score : 0.8922631740570068\n",
      "Test Confusion Matrix : \n",
      "tensor([[4091,  173],\n",
      "        [ 572, 3085]])\n",
      "Epoch 18 학습 및 평가 결과\n",
      "Train F1 score : 0.7174269556999207\n",
      "Train Confusion Matrix : \n",
      "tensor([[14856,  2101],\n",
      "        [ 5314,  9413]])\n",
      "Test F1 score : 0.9046612977981567\n",
      "Test Confusion Matrix : \n",
      "tensor([[4032,  232],\n",
      "        [ 445, 3212]])\n",
      "Epoch 19 학습 및 평가 결과\n",
      "Train F1 score : 0.7492571473121643\n",
      "Train Confusion Matrix : \n",
      "tensor([[14637,  2320],\n",
      "        [ 4515, 10212]])\n",
      "Test F1 score : 0.9110459685325623\n",
      "Test Confusion Matrix : \n",
      "tensor([[4022,  242],\n",
      "        [ 395, 3262]])\n",
      "Epoch 20 학습 및 평가 결과\n",
      "Train F1 score : 0.7882950901985168\n",
      "Train Confusion Matrix : \n",
      "tensor([[14044,  2913],\n",
      "        [ 3251, 11476]])\n",
      "Test F1 score : 0.9126264452934265\n",
      "Test Confusion Matrix : \n",
      "tensor([[3783,  481],\n",
      "        [ 184, 3473]])\n",
      "Epoch 21 학습 및 평가 결과\n",
      "Train F1 score : 0.8057011961936951\n",
      "Train Confusion Matrix : \n",
      "tensor([[13920,  3037],\n",
      "        [ 2743, 11984]])\n",
      "Test F1 score : 0.9228065609931946\n",
      "Test Confusion Matrix : \n",
      "tensor([[3937,  327],\n",
      "        [ 244, 3413]])\n",
      "Epoch 22 학습 및 평가 결과\n",
      "Train F1 score : 0.8189836740493774\n",
      "Train Confusion Matrix : \n",
      "tensor([[13742,  3215],\n",
      "        [ 2285, 12442]])\n",
      "Test F1 score : 0.9133114814758301\n",
      "Test Confusion Matrix : \n",
      "tensor([[3778,  486],\n",
      "        [ 175, 3482]])\n",
      "Epoch 23 학습 및 평가 결과\n",
      "Train F1 score : 0.8297207355499268\n",
      "Train Confusion Matrix : \n",
      "tensor([[13894,  3063],\n",
      "        [ 2114, 12613]])\n",
      "Test F1 score : 0.9046264886856079\n",
      "Test Confusion Matrix : \n",
      "tensor([[3683,  581],\n",
      "        [ 157, 3500]])\n",
      "Epoch 24 학습 및 평가 결과\n",
      "Train F1 score : 0.8448473215103149\n",
      "Train Confusion Matrix : \n",
      "tensor([[13525,  3432],\n",
      "        [ 1446, 13281]])\n",
      "Test F1 score : 0.9059023857116699\n",
      "Test Confusion Matrix : \n",
      "tensor([[3741,  523],\n",
      "        [ 196, 3461]])\n",
      "Epoch 25 학습 및 평가 결과\n",
      "Train F1 score : 0.8494389057159424\n",
      "Train Confusion Matrix : \n",
      "tensor([[13997,  2960],\n",
      "        [ 1669, 13058]])\n",
      "Test F1 score : 0.8961692452430725\n",
      "Test Confusion Matrix : \n",
      "tensor([[3642,  622],\n",
      "        [ 183, 3474]])\n",
      "Epoch 26 학습 및 평가 결과\n",
      "Train F1 score : 0.8592753410339355\n",
      "Train Confusion Matrix : \n",
      "tensor([[13802,  3155],\n",
      "        [ 1257, 13470]])\n",
      "Test F1 score : 0.8898621797561646\n",
      "Test Confusion Matrix : \n",
      "tensor([[3612,  652],\n",
      "        [ 203, 3454]])\n",
      "Epoch 27 학습 및 평가 결과\n",
      "Train F1 score : 0.865955650806427\n",
      "Train Confusion Matrix : \n",
      "tensor([[13926,  3031],\n",
      "        [ 1167, 13560]])\n",
      "Test F1 score : 0.8858870267868042\n",
      "Test Confusion Matrix : \n",
      "tensor([[3591,  673],\n",
      "        [ 214, 3443]])\n",
      "Epoch 28 학습 및 평가 결과\n",
      "Train F1 score : 0.871849000453949\n",
      "Train Confusion Matrix : \n",
      "tensor([[14051,  2906],\n",
      "        [ 1100, 13627]])\n",
      "Test F1 score : 0.8833804130554199\n",
      "Test Confusion Matrix : \n",
      "tensor([[3574,  690],\n",
      "        [ 218, 3439]])\n",
      "Epoch 29 학습 및 평가 결과\n",
      "Train F1 score : 0.8771817684173584\n",
      "Train Confusion Matrix : \n",
      "tensor([[14090,  2867],\n",
      "        [  982, 13745]])\n",
      "Test F1 score : 0.8846004605293274\n",
      "Test Confusion Matrix : \n",
      "tensor([[3615,  649],\n",
      "        [ 242, 3415]])\n",
      "Epoch 30 학습 및 평가 결과\n",
      "Train F1 score : 0.8822942972183228\n",
      "Train Confusion Matrix : \n",
      "tensor([[14302,  2655],\n",
      "        [ 1006, 13721]])\n",
      "Test F1 score : 0.8827550411224365\n",
      "Test Confusion Matrix : \n",
      "tensor([[3590,  674],\n",
      "        [ 235, 3422]])\n"
     ]
    }
   ],
   "source": [
    "EPOCHES = 30\n",
    "results = [[], []]\n",
    "latestcm = None\n",
    "for epoch in range(EPOCHES):\n",
    "    print(f\"Epoch {epoch+1} 학습 및 평가 결과\")\n",
    "    tresult, trainloss = train(model, trainloader, optimizer, criterion, scheduler)\n",
    "    evalresult, val_loss, latestcm = evaluate(model, testloader, criterion)\n",
    "    \n",
    "    results[0].append(tresult)\n",
    "    results[1].append(evalresult)\n",
    "    \n",
    "    scheduler.step(val_loss)\n",
    "    if scheduler.num_bad_epochs >= scheduler.patience:\n",
    "        print(f'Early stopping at epoch {epoch}')\n",
    "        break\n",
    "\n",
    "\n",
    "    \n",
    "\n",
    "\n"
   ]
  },
  {
   "cell_type": "code",
   "execution_count": 85,
   "metadata": {},
   "outputs": [],
   "source": [
    "torch.save(model, './model_jeju_nodelete.pt')"
   ]
  },
  {
   "cell_type": "code",
   "execution_count": 86,
   "metadata": {},
   "outputs": [
    {
     "data": {
      "text/plain": [
       "array([[0.84193246, 0.18430407],\n",
       "       [0.05511257, 0.93573968]])"
      ]
     },
     "execution_count": 86,
     "metadata": {},
     "output_type": "execute_result"
    }
   ],
   "source": [
    "latestcm / latestcm.sum(axis = 1)"
   ]
  },
  {
   "cell_type": "code",
   "execution_count": 87,
   "metadata": {},
   "outputs": [
    {
     "data": {
      "image/png": "[encoded data removed]",
      "text/plain": [
       "<Figure size 1500x500 with 3 Axes>"
      ]
     },
     "metadata": {},
     "output_type": "display_data"
    }
   ],
   "source": [
    "import matplotlib.pyplot as plt\n",
    "import koreanize_matplotlib\n",
    "from sklearn.metrics import ConfusionMatrixDisplay\n",
    "\n",
    "fig, axe = plt.subplots(1, 2, figsize=(15, 5))\n",
    "\n",
    "\n",
    "titlearg = {\n",
    "    'fontsize' : 15,\n",
    "    'fontweight' : 'bold',\n",
    "\n",
    "}\n",
    "plt.axes(axe[0])\n",
    "plt.title('F1 score', **titlearg)\n",
    "plt.plot(results[0], label='Train F1')\n",
    "plt.plot(results[1], label='Test F1')\n",
    "plt.legend()\n",
    "plt.axes(axe[1])\n",
    "plt.title('Confusion Matrix', **titlearg)\n",
    "ConfusionMatrixDisplay(latestcm / latestcm.sum(axis = 1), display_labels=['제주도', '표준어']).plot(ax= axe[1])\n",
    "plt.show()\n"
   ]
  },
  {
   "cell_type": "code",
   "execution_count": 48,
   "metadata": {},
   "outputs": [],
   "source": [
    "# !pip install bareunpy"
   ]
  },
  {
   "cell_type": "code",
   "execution_count": 89,
   "metadata": {},
   "outputs": [
    {
     "name": "stdout",
     "output_type": "stream",
     "text": [
      "std : 0.6343405246734619, dialect : 0.34216123819351196\n",
      "std : \n",
      "레옹 베르트에게 이 책을 바친다.\n",
      "이 책을 어른에게 바친 데 대해 어린이들에게 용서를 바란다. 나에게는 그럴 만한 중요한 이유가 있다. 그것은 무엇보다도 그 사람은 이 세상에서 나와 가장 친한 친구이기 때문이라는 점이다. 그리고 그는 무엇이든지 알아들을 수 있으며 어린이들을 위한 책까지도 다 이해한다는 점이다. 세 번째 이유는 그가 프랑스에 살고 있는데 그 곳에서 추위와 굶주림에 떨고 있다는 사실이다. 그는 위로받아야 할 처지에 있는 것이다. 그래도 이 모든 이유들이 부족하다면 예전 어린 시절의 그에게 이 책을 바치겠다. 어른들도 모두 한때는 어린이였으니까 말이다. 그래서 바치는 글을 이렇게 고쳐 쓴다.\n",
      "'어린이였을 때의 레옹 베르트에게 이 책을 바친다.'\n",
      ", dialect : \n",
      "이건 나신디는 요 시상에서 젤로 아름답고 젤로 실픈 풍경이우다. 이건 앞에 이신 페이지의 풍경과 똑고튼 풍경이주만, 요라분덜신디는 자세히 배리게 해주젠 허난 또시 혼 번 그린 그림이우다. 이곳은 왕자가 지구에 나타났당 사라진 곳이우다.\n",
      "\n",
      "만일에 요라분덜이 언젠가 아프리카의 소막을 여행하게 될 따문, 이곳을 틀림없이 기억해 낼 수 있도록 이 풍경을 주의 깊게 뵈려줘시민 햄수다. 경허고 만일에 요라분덜이 이곳을 지나가게 되민 부디 와리지말앙 그 벨 바로 밑에서 호끔만 기달려 줘시민 허염수다! 만일 그 때 혼 호끌락헌 아이가 요라분 조껕띠 다가왔거들랑, 가이가 웃고 이시멍, 거의 머리자락이 금발머리라민, 경허고 곧는 말에 대답을 하지 안허민, 요라분덜은 가이가 누게인지 분명히 알아차리게 될 거우다. 경허민 요라분덜은 이추룩 슬퍼허고 이신 나를 외면허지 말앙, 나신디 친절허게 대허영 줘시민 햄수다! 경허고 부디 나신디 편지로 소식을 전해 줘시민 좋쿠다. 가\n",
      "\n"
     ]
    }
   ],
   "source": [
    "stdsentence = '''\n",
    "레옹 베르트에게 이 책을 바친다.\n",
    "이 책을 어른에게 바친 데 대해 어린이들에게 용서를 바란다. 나에게는 그럴 만한 중요한 이유가 있다. 그것은 무엇보다도 그 사람은 이 세상에서 나와 가장 친한 친구이기 때문이라는 점이다. 그리고 그는 무엇이든지 알아들을 수 있으며 어린이들을 위한 책까지도 다 이해한다는 점이다. 세 번째 이유는 그가 프랑스에 살고 있는데 그 곳에서 추위와 굶주림에 떨고 있다는 사실이다. 그는 위로받아야 할 처지에 있는 것이다. 그래도 이 모든 이유들이 부족하다면 예전 어린 시절의 그에게 이 책을 바치겠다. 어른들도 모두 한때는 어린이였으니까 말이다. 그래서 바치는 글을 이렇게 고쳐 쓴다.\n",
    "'어린이였을 때의 레옹 베르트에게 이 책을 바친다.'\n",
    "'''\n",
    "dialectsentence = '''\n",
    "이건 나신디는 요 시상에서 젤로 아름답고 젤로 실픈 풍경이우다. 이건 앞에 이신 페이지의 풍경과 똑고튼 풍경이주만, 요라분덜신디는 자세히 배리게 해주젠 허난 또시 혼 번 그린 그림이우다. 이곳은 왕자가 지구에 나타났당 사라진 곳이우다.\n",
    "\n",
    "만일에 요라분덜이 언젠가 아프리카의 소막을 여행하게 될 따문, 이곳을 틀림없이 기억해 낼 수 있도록 이 풍경을 주의 깊게 뵈려줘시민 햄수다. 경허고 만일에 요라분덜이 이곳을 지나가게 되민 부디 와리지말앙 그 벨 바로 밑에서 호끔만 기달려 줘시민 허염수다! 만일 그 때 혼 호끌락헌 아이가 요라분 조껕띠 다가왔거들랑, 가이가 웃고 이시멍, 거의 머리자락이 금발머리라민, 경허고 곧는 말에 대답을 하지 안허민, 요라분덜은 가이가 누게인지 분명히 알아차리게 될 거우다. 경허민 요라분덜은 이추룩 슬퍼허고 이신 나를 외면허지 말앙, 나신디 친절허게 대허영 줘시민 햄수다! 경허고 부디 나신디 편지로 소식을 전해 줘시민 좋쿠다. 가\n",
    "'''\n",
    "\n",
    "std = model(torch.tensor(vocab(tokenizer(stdsentence))), torch.tensor([0]))\n",
    "dialect = model(torch.tensor(vocab(tokenizer(dialectsentence))), torch.tensor([0]))\n",
    "\n",
    "nn.Sigmoid()(std)\n",
    "print(f\"std : {std.item()}, dialect : {dialect.item()}\")\n",
    "print(f'std : {stdsentence}, dialect : {dialectsentence}')\n",
    "\n"
   ]
  },
  {
   "cell_type": "code",
   "execution_count": null,
   "metadata": {},
   "outputs": [],
   "source": []
  }
 ],
 "metadata": {
  "kernelspec": {
   "display_name": "EXAM_DL",
   "language": "python",
   "name": "python3"
  },
  "language_info": {
   "codemirror_mode": {
    "name": "ipython",
    "version": 3
   },
   "file_extension": ".py",
   "mimetype": "text/x-python",
   "name": "python",
   "nbconvert_exporter": "python",
   "pygments_lexer": "ipython3",
   "version": "3.9.19"
  }
 },
 "nbformat": 4,
 "nbformat_minor": 2
}
