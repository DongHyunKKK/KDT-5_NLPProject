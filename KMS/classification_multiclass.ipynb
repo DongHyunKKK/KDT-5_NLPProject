{
 "cells": [
  {
   "cell_type": "code",
   "execution_count": 36,
   "metadata": {},
   "outputs": [],
   "source": [
    "import torch \n",
    "import os\n",
    "import torch.nn as nn\n",
    "import seaborn\n",
    "import koreanize_matplotlib\n",
    "import torch.nn.functional as F\n",
    "import pandas as pd\n",
    "from torch.utils.data import Dataset, DataLoader\n",
    "from torchtext.vocab import build_vocab_from_iterator\n",
    "from bareunpy import Tagger\n",
    "from konlpy.tag import Mecab\n",
    "\n",
    "# DEVICE = torch.device('cuda' if torch.cuda.is_available() else 'cpu')\n",
    "DEVICE = 'cpu'"
   ]
  },
  {
   "cell_type": "code",
   "execution_count": 37,
   "metadata": {},
   "outputs": [
    {
     "data": {
      "text/plain": [
       "'!\"#$%&\\'()*+,-./:;<=>?@[\\\\]^_`{|}~'"
      ]
     },
     "execution_count": 37,
     "metadata": {},
     "output_type": "execute_result"
    }
   ],
   "source": [
    "import string\n",
    "\n",
    "PUNCTUATION = string.punctuation\n",
    "PUNCTUATION"
   ]
  },
  {
   "cell_type": "code",
   "execution_count": 38,
   "metadata": {},
   "outputs": [],
   "source": [
    "ROOT = './DATA/TABLES/'\n",
    "\n",
    "tables = []\n",
    "names = os.listdir(ROOT)\n",
    "for x in names: tables.append(pd.read_csv(ROOT+x, encoding='utf-8'))\n",
    "\n"
   ]
  },
  {
   "cell_type": "code",
   "execution_count": 39,
   "metadata": {},
   "outputs": [],
   "source": [
    "### 경상도쪽 표준어 작성된 데이터셋을 활용함\n"
   ]
  },
  {
   "cell_type": "code",
   "execution_count": 40,
   "metadata": {},
   "outputs": [],
   "source": [
    "totaldf = []\n",
    "for idx, table in enumerate(tables):\n",
    "    tables[idx] = table.melt().reindex(columns=['value', 'variable'])\n",
    "    tables[idx].reset_index(drop=True, inplace=True)\n",
    "    mask = tables[idx]['variable'] == '사투리'\n",
    "    df = tables[idx][mask].copy()\n",
    "    df['variable'] = names[idx].split('.')[0]\n",
    "    totaldf.append(df)\n",
    "\n",
    "\n",
    "totaldf.append(tables[0][tables[0]['variable'] == '표준어'])\n",
    "totaldf = pd.concat(totaldf, axis=0)\n",
    "totaldf.reset_index(drop=True, inplace=True)"
   ]
  },
  {
   "cell_type": "code",
   "execution_count": 41,
   "metadata": {},
   "outputs": [
    {
     "data": {
      "text/plain": [
       "['경상도.csv', '강원도.csv', '전라도.csv', '충청도.csv', '제주도.csv']"
      ]
     },
     "execution_count": 41,
     "metadata": {},
     "output_type": "execute_result"
    }
   ],
   "source": [
    "names\n"
   ]
  },
  {
   "cell_type": "code",
   "execution_count": 42,
   "metadata": {},
   "outputs": [],
   "source": [
    "# 전지역으로 설정하기\n",
    "TABLETARGET = totaldf"
   ]
  },
  {
   "cell_type": "code",
   "execution_count": 43,
   "metadata": {},
   "outputs": [
    {
     "name": "stdout",
     "output_type": "stream",
     "text": [
      "<class 'pandas.core.frame.DataFrame'>\n",
      "RangeIndex: 677456 entries, 0 to 677455\n",
      "Data columns (total 2 columns):\n",
      " #   Column    Non-Null Count   Dtype \n",
      "---  ------    --------------   ----- \n",
      " 0   value     677456 non-null  object\n",
      " 1   variable  677456 non-null  object\n",
      "dtypes: object(2)\n",
      "memory usage: 10.3+ MB\n"
     ]
    }
   ],
   "source": [
    "TABLETARGET.info()"
   ]
  },
  {
   "cell_type": "code",
   "execution_count": 44,
   "metadata": {},
   "outputs": [],
   "source": [
    "TABLETARGET.drop_duplicates(inplace=True)"
   ]
  },
  {
   "cell_type": "code",
   "execution_count": 45,
   "metadata": {},
   "outputs": [
    {
     "name": "stdout",
     "output_type": "stream",
     "text": [
      "<class 'pandas.core.frame.DataFrame'>\n",
      "Int64Index: 473942 entries, 0 to 677454\n",
      "Data columns (total 2 columns):\n",
      " #   Column    Non-Null Count   Dtype \n",
      "---  ------    --------------   ----- \n",
      " 0   value     473942 non-null  object\n",
      " 1   variable  473942 non-null  object\n",
      "dtypes: object(2)\n",
      "memory usage: 10.8+ MB\n"
     ]
    }
   ],
   "source": [
    "TABLETARGET.info()"
   ]
  },
  {
   "cell_type": "code",
   "execution_count": 46,
   "metadata": {},
   "outputs": [],
   "source": [
    "# zip_tables = list(zip(tables, names))\n",
    "\n",
    "class TableDataset(Dataset):\n",
    "    \n",
    "    def __init__(self, table):\n",
    "        super().__init__()\n",
    "        self.table = table\n",
    "        self.category = self.table['variable'].astype('category')\n",
    "        self.label = self.category.cat.codes\n",
    "        self.catlabel = pd.concat([self.category, self.label], axis=1)\n",
    "\n",
    "        # print(type(self.label), type(self.table), self.label.shape, self.table.shape)\n",
    "        \n",
    "    def __len__(self):\n",
    "        number = len(self.table)\n",
    "        return number\n",
    "    \n",
    "    def __getitem__(self, idx):\n",
    "        # 데이터 로드\n",
    "        label = self.label.iloc[idx]\n",
    "        sentence = self.table['value'].iloc[idx]\n",
    "        \n",
    "        return label, sentence\n",
    "        \n",
    "# 토큰화 함수\n",
    "from jamo import h2j, j2hcj\n",
    "def tokenize(iterator, tokenizer):\n",
    "    for label, text in iterator:\n",
    "        yield tokenizer(text)\n",
    "\n",
    "def tokenize_baerun(iterator, tokenizer):\n",
    "    for label, text in iterator:\n",
    "        yield tokenizer.tags('안녕하세요').morphs()"
   ]
  },
  {
   "cell_type": "code",
   "execution_count": 47,
   "metadata": {},
   "outputs": [],
   "source": [
    "# split data using train test \n",
    "from sklearn.model_selection import train_test_split\n",
    "\n",
    "train, test = train_test_split(TABLETARGET, test_size=0.2, random_state=42, stratify=TABLETARGET['variable'])"
   ]
  },
  {
   "cell_type": "code",
   "execution_count": 48,
   "metadata": {},
   "outputs": [],
   "source": [
    "\n",
    "train.reset_index(drop=True, inplace=True)\n",
    "test.reset_index(drop=True, inplace=True)\n",
    "\n",
    "train.dropna(inplace=True)\n",
    "test.dropna(inplace=True)\n",
    "\n"
   ]
  },
  {
   "cell_type": "code",
   "execution_count": 49,
   "metadata": {},
   "outputs": [
    {
     "data": {
      "text/plain": [
       "(전라도    93921\n",
       " 강원도    76374\n",
       " 충청도    73307\n",
       " 경상도    65068\n",
       " 표준어    53506\n",
       " 제주도    16977\n",
       " Name: variable, dtype: int64,\n",
       " 전라도    23481\n",
       " 강원도    19094\n",
       " 충청도    18327\n",
       " 경상도    16267\n",
       " 표준어    13376\n",
       " 제주도     4244\n",
       " Name: variable, dtype: int64)"
      ]
     },
     "execution_count": 49,
     "metadata": {},
     "output_type": "execute_result"
    }
   ],
   "source": [
    "\n",
    "train['variable'].value_counts(), test['variable'].value_counts()"
   ]
  },
  {
   "cell_type": "code",
   "execution_count": 50,
   "metadata": {},
   "outputs": [
    {
     "name": "stdout",
     "output_type": "stream",
     "text": [
      "<class 'pandas.core.frame.DataFrame'>\n",
      "RangeIndex: 379153 entries, 0 to 379152\n",
      "Data columns (total 2 columns):\n",
      " #   Column    Non-Null Count   Dtype \n",
      "---  ------    --------------   ----- \n",
      " 0   value     379153 non-null  object\n",
      " 1   variable  379153 non-null  object\n",
      "dtypes: object(2)\n",
      "memory usage: 5.8+ MB\n"
     ]
    }
   ],
   "source": [
    "train.info()"
   ]
  },
  {
   "cell_type": "code",
   "execution_count": 51,
   "metadata": {},
   "outputs": [
    {
     "name": "stdout",
     "output_type": "stream",
     "text": [
      "<class 'pandas.core.frame.DataFrame'>\n",
      "RangeIndex: 379153 entries, 0 to 379152\n",
      "Data columns (total 2 columns):\n",
      " #   Column    Non-Null Count   Dtype \n",
      "---  ------    --------------   ----- \n",
      " 0   value     379153 non-null  object\n",
      " 1   variable  379153 non-null  object\n",
      "dtypes: object(2)\n",
      "memory usage: 5.8+ MB\n"
     ]
    }
   ],
   "source": [
    "train.info()"
   ]
  },
  {
   "cell_type": "code",
   "execution_count": 52,
   "metadata": {},
   "outputs": [
    {
     "data": {
      "text/plain": [
       "(4, '그래서 이렇게 같이 맺어서 인저 가운데를 접으면 이게 네 가닥이 되니까 신발 끄트매기를 이렇게 맺어유')"
      ]
     },
     "execution_count": 52,
     "metadata": {},
     "output_type": "execute_result"
    }
   ],
   "source": [
    "\n",
    "# 데이터셋 정의\n",
    "gyd_train = TableDataset(train)\n",
    "gyd_test = TableDataset(test)\n",
    "gyd_total = TableDataset(TABLETARGET)\n",
    "\n",
    "\n",
    "gyd_test[0]"
   ]
  },
  {
   "cell_type": "code",
   "execution_count": 53,
   "metadata": {},
   "outputs": [
    {
     "data": {
      "text/plain": [
       "((379153, 2), 379153, (94789, 2))"
      ]
     },
     "execution_count": 53,
     "metadata": {},
     "output_type": "execute_result"
    }
   ],
   "source": [
    "train.shape, gyd_train.__len__(), test.shape"
   ]
  },
  {
   "cell_type": "code",
   "execution_count": 54,
   "metadata": {},
   "outputs": [],
   "source": [
    "UNK = '<unk>'\n",
    "PAD = '<pad>'\n",
    "\n",
    "# 토큰화 인스턴스 생성 \n",
    "with open('./hangul_stopword.txt') as f:\n",
    "    stopwords = f.read().splitlines()\n",
    "\n",
    "def tokenizer(x):\n",
    "    result = Mecab().morphs(x)\n",
    "    for idx, word in enumerate(result):\n",
    "        for char in word:\n",
    "            if char in PUNCTUATION:\n",
    "                result[idx] = result[idx].replace(char, '')\n",
    "                # print('punc_deleted')\n",
    "        # if word in stopwords:\n",
    "        #     result.pop(idx)\n",
    "            # print('stop_deleted',idx)\n",
    "    return result\n",
    "\n",
    "\n",
    "API_KEY = 'koba-TXPHP7A-AOWEX4Y-WCTFG3I-RFAISLA'\n",
    "tokenizer_baerun = Tagger(API_KEY, '127.0.0.1', 5757)\n",
    "\n",
    "\n",
    "# tokenizer_baerun = tokenizer_baerun.tags('안녕하세요').morphs()\n",
    "# tokenizer_baerun"
   ]
  },
  {
   "cell_type": "code",
   "execution_count": 55,
   "metadata": {},
   "outputs": [],
   "source": [
    "import pickle\n",
    "VOCAFILE = './vocab_multi.pkl'\n",
    "if not os.path.exists(VOCAFILE):\n",
    "    # 단어사전 생성하기 \n",
    "    vocab = build_vocab_from_iterator(tokenize(gyd_train, tokenizer), specials=[UNK, PAD])\n",
    "    # vocab = build_vocab_from_iterator(tokenize_baerun(gyd_train, tokenizer_baerun), specials=[UNK, PAD])\n",
    "\n",
    "    # default unk\n",
    "    vocab.set_default_index(vocab[UNK])\n",
    "    with open(VOCAFILE, 'wb') as f:\n",
    "        pickle.dump(vocab, f)\n",
    "else:\n",
    "    with open(VOCAFILE, 'rb') as f:\n",
    "        vocab = pickle.load(f)\n",
    "    \n"
   ]
  },
  {
   "cell_type": "code",
   "execution_count": 56,
   "metadata": {},
   "outputs": [
    {
     "data": {
      "text/plain": [
       "[23, 28]"
      ]
     },
     "execution_count": 56,
     "metadata": {},
     "output_type": "execute_result"
    }
   ],
   "source": [
    "vocab(['먹', '것'])"
   ]
  },
  {
   "cell_type": "code",
   "execution_count": 57,
   "metadata": {},
   "outputs": [
    {
     "data": {
      "text/plain": [
       "[23, 28, 4, 28]"
      ]
     },
     "execution_count": 57,
     "metadata": {},
     "output_type": "execute_result"
    }
   ],
   "source": [
    "vocab(['먹', '것', '이', '것'])"
   ]
  },
  {
   "cell_type": "code",
   "execution_count": 58,
   "metadata": {},
   "outputs": [],
   "source": [
    "def text_pipeline(x):\n",
    "    return vocab(tokenizer(x))\n",
    "\n",
    "# def label_pipeline(x):\n",
    "#     # 데이터셋에서 라벨을 0부터 잡았으므로 그대로 정수 반환\n",
    "#     return int(x)\n",
    "\n",
    "def collate_batch(batch):\n",
    "    labels, text_list, offsets = [], [], [0]\n",
    "    \n",
    "    for label, text in batch:\n",
    "        \n",
    "        labels.append(label)\n",
    "        \n",
    "        processed_text = torch.tensor(text_pipeline(text), dtype=torch.int64)\n",
    "        text_list.append(processed_text)\n",
    "        \n",
    "        offsets.append(processed_text.size(0))\n",
    "        \n",
    "        \n",
    "    labels = torch.tensor(labels, dtype=torch.int64).to(DEVICE)\n",
    "    offsets = torch.tensor(offsets[:-1]).cumsum(dim=0).to(DEVICE)\n",
    "    text_list = torch.cat(text_list).to(DEVICE)\n",
    "    \n",
    "    return labels, text_list, offsets\n"
   ]
  },
  {
   "cell_type": "code",
   "execution_count": 59,
   "metadata": {},
   "outputs": [],
   "source": [
    "BATCHSIZE = 10000\n",
    "\n",
    "\n",
    "\n",
    "trainloader = DataLoader(gyd_train, batch_size=BATCHSIZE, collate_fn=collate_batch, num_workers=64, shuffle=True)\n",
    "testloader = DataLoader(gyd_test, batch_size=BATCHSIZE, collate_fn=collate_batch, num_workers=64, shuffle=True)\n"
   ]
  },
  {
   "cell_type": "code",
   "execution_count": 60,
   "metadata": {},
   "outputs": [],
   "source": [
    "num_Class = len(gyd_train.category.cat.categories)\n",
    "vocab_size = len(vocab)\n",
    "embed_dim = 15\n",
    "hidden_dim = 30\n"
   ]
  },
  {
   "cell_type": "code",
   "execution_count": 61,
   "metadata": {},
   "outputs": [],
   "source": [
    "class TextMulti(nn.Module):\n",
    "    def __init__(self, vocab_size, embed_dim, hidden_dim, num_Class):\n",
    "        super().__init__()\n",
    "        self.embedding = nn.EmbeddingBag(vocab_size, embed_dim)\n",
    "        self.rnn = nn.LSTM(embed_dim, hidden_dim, batch_first=True, bidirectional=True)\n",
    "        self.fc = nn.Linear(hidden_dim*2, num_Class)\n",
    "        self.init_weights()\n",
    "        \n",
    "    def init_weights(self):\n",
    "        initrange = 0.5\n",
    "        self.embedding.weight.data.uniform_(-initrange, initrange)\n",
    "        self.fc.weight.data.uniform_(-initrange, initrange)\n",
    "        self.fc.bias.data.zero_()\n",
    "        \n",
    "    def forward(self, text, offsets):\n",
    "        embedded = self.embedding(text, offsets)\n",
    "        output, _hidden = self.rnn(embedded)\n",
    "        return self.fc(output)\n",
    "\n",
    "\n",
    "model = TextMulti(vocab_size, embed_dim, hidden_dim, num_Class).to(DEVICE)\n",
    "criterion = nn.CrossEntropyLoss()\n",
    "optimizer = torch.optim.Adam(model.parameters(), lr=0.001)\n",
    "scheduler = torch.optim.lr_scheduler.ReduceLROnPlateau(optimizer, 'min', patience=3)\n",
    "\n",
    "\n"
   ]
  },
  {
   "cell_type": "code",
   "execution_count": 62,
   "metadata": {},
   "outputs": [],
   "source": [
    "from torchmetrics.classification import MulticlassConfusionMatrix, MulticlassF1Score, MultilabelF1Score, MultilabelConfusionMatrix, MultilabelAccuracy\n",
    "import numpy as np\n",
    "\n",
    "def train(model, iterator, optimizer, criterion, scheduler):\n",
    "    model.train()\n",
    "    lossagg = []\n",
    "    f1 = MulticlassF1Score(num_Class).to(DEVICE)\n",
    "    cm = MulticlassConfusionMatrix(num_Class).to(DEVICE)\n",
    "    \n",
    "    \n",
    "    for label, text, offsets in iterator:\n",
    "        # label = label.unsqueeze(1)\n",
    "\n",
    "        # label = F.one_hot(label, num_classes=num_Class).float()\n",
    "\n",
    "        predictions = model(text, offsets)\n",
    "        # print(predictions.shape, label.shape)\n",
    "        loss = criterion(predictions, label)\n",
    "        \n",
    "        optimizer.zero_grad()\n",
    "        loss.backward()\n",
    "        optimizer.step()\n",
    "        \n",
    "        lossagg.append(loss.item())\n",
    "        f1(predictions, label)\n",
    "        cm(predictions, label)\n",
    "        \n",
    "            \n",
    "    print(f\"Train F1 score : {f1.compute()}\")\n",
    "    print(f\"Train Confusion Matrix : \\n{cm.compute()}\")\n",
    "\n",
    "    return f1.compute().cpu().item(), np.mean(lossagg)\n",
    "    \n",
    "def evaluate(model, iterator, criterion):\n",
    "    model.eval()\n",
    "    lossagg = []\n",
    "    f1 = MulticlassF1Score(num_Class).to(DEVICE)\n",
    "    cm = MulticlassConfusionMatrix(num_Class).to(DEVICE)\n",
    "    \n",
    "    \n",
    "    with torch.no_grad():\n",
    "        for label, text, offsets in iterator:\n",
    "            # label = label.unsqueeze(1)\n",
    "            \n",
    "            # label = F.one_hot(label, num_classes=num_Class).float()\n",
    "\n",
    "            predictions = model(text, offsets)\n",
    "            loss = criterion(predictions, label)\n",
    "            \n",
    "            lossagg.append(loss.item())\n",
    "            f1(predictions, label)\n",
    "            cm(predictions, label)\n",
    "            \n",
    "    print(f\"Test F1 score : {f1.compute()}\")\n",
    "    print(f\"Test Confusion Matrix : \\n{cm.compute()}\")\n",
    "    \n",
    "    return f1.compute().cpu().item(), np.mean(lossagg), cm.compute().cpu().numpy()\n"
   ]
  },
  {
   "cell_type": "markdown",
   "metadata": {},
   "source": [
    "### 병목 증상 설명\n",
    "\n",
    "- 기존 이미지의 경우에는 GPU에서 돌리는 것이 효과적\n",
    "- 하지만 단어 태깅이 CPU 에서 이루어지므로 자연어 처리에서는 CPU가 더 효과적임\n"
   ]
  },
  {
   "cell_type": "code",
   "execution_count": 63,
   "metadata": {},
   "outputs": [
    {
     "name": "stdout",
     "output_type": "stream",
     "text": [
      "Epoch 1 학습 및 평가 결과\n"
     ]
    },
    {
     "name": "stdout",
     "output_type": "stream",
     "text": [
      "Train F1 score : 0.0940486416220665\n",
      "Train Confusion Matrix : \n",
      "tensor([[    0,   139, 57228,     2,     0, 19005],\n",
      "        [    0,   215, 48493,     8,     0, 16352],\n",
      "        [    0,   161, 70451,     5,     0, 23304],\n",
      "        [    0,    57, 12827,     5,     0,  4088],\n",
      "        [    0,   195, 54879,     9,     0, 18224],\n",
      "        [    0,   189, 39691,     6,     0, 13620]])\n",
      "Test F1 score : 0.06617908179759979\n",
      "Test Confusion Matrix : \n",
      "tensor([[    0,     0, 19094,     0,     0,     0],\n",
      "        [    0,     0, 16267,     0,     0,     0],\n",
      "        [    0,     0, 23481,     0,     0,     0],\n",
      "        [    0,     0,  4244,     0,     0,     0],\n",
      "        [    0,     0, 18327,     0,     0,     0],\n",
      "        [    0,     0, 13376,     0,     0,     0]])\n",
      "Epoch 2 학습 및 평가 결과\n",
      "Train F1 score : 0.06644631922245026\n",
      "Train Confusion Matrix : \n",
      "tensor([[    1,     0, 76373,     0,     0,     0],\n",
      "        [    1,    25, 64965,     0,    77,     0],\n",
      "        [    0,     2, 93918,     0,     1,     0],\n",
      "        [    0,     1, 16970,     0,     6,     0],\n",
      "        [    0,     0, 73283,     0,    24,     0],\n",
      "        [    0,    19, 53434,     0,    53,     0]])\n",
      "Test F1 score : 0.06804072856903076\n",
      "Test Confusion Matrix : \n",
      "tensor([[    0,     1, 19093,     0,     0,     0],\n",
      "        [    0,    63, 16142,     0,    62,     0],\n",
      "        [    0,     2, 23475,     0,     4,     0],\n",
      "        [    1,     4,  4235,     0,     4,     0],\n",
      "        [    0,     1, 18302,     0,    24,     0],\n",
      "        [    0,    44, 13249,     0,    83,     0]])\n",
      "Epoch 3 학습 및 평가 결과\n",
      "Train F1 score : 0.13128787279129028\n",
      "Train Confusion Matrix : \n",
      "tensor([[ 1367,   736, 73798,     0,   473,     0],\n",
      "        [  250,  9425, 53839,     0,  1554,     0],\n",
      "        [   99,   355, 93120,     0,   347,     0],\n",
      "        [  293,   171, 16098,     0,   415,     0],\n",
      "        [  218,  1414, 67259,     0,  4416,     0],\n",
      "        [  175,  6452, 45085,     0,  1794,     0]])\n",
      "Test F1 score : 0.20846903324127197\n",
      "Test Confusion Matrix : \n",
      "tensor([[ 1311,   762, 16622,     0,   399,     0],\n",
      "        [  177,  6334,  9273,     0,   483,     0],\n",
      "        [   81,   350, 22825,     0,   225,     0],\n",
      "        [  247,   160,  3601,     0,   236,     0],\n",
      "        [  176,  1244, 14203,     0,  2704,     0],\n",
      "        [  143,  4588,  8021,     0,   624,     0]])\n",
      "Epoch 4 학습 및 평가 결과\n",
      "Train F1 score : 0.30124154686927795\n",
      "Train Confusion Matrix : \n",
      "tensor([[20720,  5718, 43409,     0,  6478,    49],\n",
      "        [ 3704, 35902, 19627,     0,  5719,   116],\n",
      "        [ 3031,  2438, 84421,     0,  3983,    48],\n",
      "        [ 3048,   794, 10669,     0,  2461,     5],\n",
      "        [ 4280,  7667, 37563,     0, 23743,    54],\n",
      "        [ 3051, 25871, 17769,     0,  6637,   178]])\n",
      "Test F1 score : 0.3581213057041168\n",
      "Test Confusion Matrix : \n",
      "tensor([[ 8371,  1022,  6179,     0,  3484,    38],\n",
      "        [ 1494,  9484,  2283,     0,  2938,    68],\n",
      "        [ 1280,   445, 19676,     0,  2060,    20],\n",
      "        [ 1190,    95,  1935,     0,  1023,     1],\n",
      "        [ 1715,  1223,  5928,     0,  9429,    32],\n",
      "        [ 1256,  6702,  1923,     0,  3367,   128]])\n",
      "Epoch 5 학습 및 평가 결과\n",
      "Train F1 score : 0.4067550599575043\n",
      "Train Confusion Matrix : \n",
      "tensor([[44373,  5141, 14952,     0, 11269,   639],\n",
      "        [ 7259, 42984,  4911,     0,  8285,  1629],\n",
      "        [ 7425,  1838, 76834,     0,  7369,   455],\n",
      "        [ 6728,   464,  5769,     0,  3947,    69],\n",
      "        [ 9341,  5352, 18073,     0, 39901,   640],\n",
      "        [ 6421, 29793,  4673,     0,  9979,  2640]])\n",
      "Test F1 score : 0.4532243609428406\n",
      "Test Confusion Matrix : \n",
      "tensor([[11768,  1017,  2861,     0,  2838,   610],\n",
      "        [ 1692, 10218,   957,     0,  1770,  1630],\n",
      "        [ 1668,   315, 19361,     0,  1794,   343],\n",
      "        [ 1807,    71,  1268,     1,  1040,    57],\n",
      "        [ 2281,   780,  4056,     0, 10706,   504],\n",
      "        [ 1534,  6427,   884,     0,  2083,  2448]])\n",
      "Epoch 6 학습 및 평가 결과\n",
      "Train F1 score : 0.4828508198261261\n",
      "Train Confusion Matrix : \n",
      "tensor([[52097,  4661,  8225,     0,  9998,  1393],\n",
      "        [ 7073, 45448,  2637,     0,  5799,  4111],\n",
      "        [ 7559,  1373, 76886,     0,  7303,   800],\n",
      "        [ 7930,   330,  3639,   531,  4417,   130],\n",
      "        [ 9530,  3168, 12923,     0, 46421,  1265],\n",
      "        [ 6706, 28302,  2573,     0,  7737,  8188]])\n",
      "Test F1 score : 0.511891782283783\n",
      "Test Confusion Matrix : \n",
      "tensor([[13486,  1225,  1684,     0,  2457,   242],\n",
      "        [ 1863, 11783,   586,     0,  1300,   735],\n",
      "        [ 1925,   381, 19080,     0,  1910,   185],\n",
      "        [ 1862,    78,   704,   444,  1139,    17],\n",
      "        [ 2465,   698,  2842,     0, 12115,   207],\n",
      "        [ 1802,  7396,   549,     0,  1773,  1856]])\n",
      "Epoch 7 학습 및 평가 결과\n",
      "Train F1 score : 0.589924156665802\n",
      "Train Confusion Matrix : \n",
      "tensor([[54673,  4210,  7028,     0,  8339,  2124],\n",
      "        [ 6529, 46454,  2131,     0,  3931,  6023],\n",
      "        [ 6810,  1119, 78286,     1,  6632,  1073],\n",
      "        [ 5798,   271,  2508,  4506,  3706,   188],\n",
      "        [ 8545,  2075, 11127,     1, 49925,  1634],\n",
      "        [ 6514, 25013,  2159,     0,  5617, 14203]])\n",
      "Test F1 score : 0.6285731792449951\n",
      "Test Confusion Matrix : \n",
      "tensor([[13559,   996,  1720,     1,  1995,   823],\n",
      "        [ 1544, 11284,   564,     1,   848,  2026],\n",
      "        [ 1516,   267, 19694,     1,  1590,   413],\n",
      "        [ 1213,    52,   512,  1609,   788,    70],\n",
      "        [ 2038,   457,  2766,     0, 12535,   531],\n",
      "        [ 1575,  5390,   525,     0,  1162,  4724]])\n",
      "Epoch 8 학습 및 평가 결과\n",
      "Train F1 score : 0.6663599014282227\n",
      "Train Confusion Matrix : \n",
      "tensor([[56420,  3559,  6245,     8,  7383,  2759],\n",
      "        [ 6019, 46251,  1814,     0,  3128,  7856],\n",
      "        [ 6150,   951, 79170,     7,  6367,  1276],\n",
      "        [ 4026,   193,  1717,  8105,  2707,   229],\n",
      "        [ 7789,  1539,  9758,     6, 52301,  1914],\n",
      "        [ 6201, 19941,  1935,     0,  4428, 21001]])\n",
      "Test F1 score : 0.6832850575447083\n",
      "Test Confusion Matrix : \n",
      "tensor([[13979,   995,  1327,     4,  1985,   804],\n",
      "        [ 1460, 11479,   446,     1,   728,  2153],\n",
      "        [ 1510,   258, 19537,     1,  1746,   429],\n",
      "        [  877,    44,   317,  2336,   602,    68],\n",
      "        [ 1951,   403,  2199,     4, 13242,   528],\n",
      "        [ 1506,  4630,   413,     0,  1008,  5819]])\n",
      "Epoch 9 학습 및 평가 결과\n",
      "Train F1 score : 0.7078319787979126\n",
      "Train Confusion Matrix : \n",
      "tensor([[57453,  3292,  5692,    18,  6981,  2938],\n",
      "        [ 5684, 46208,  1659,     1,  2573,  8943],\n",
      "        [ 5573,   902, 79973,    15,  6150,  1308],\n",
      "        [ 3270,   171,  1266,  9971,  2081,   218],\n",
      "        [ 7154,  1291,  8842,    22, 53989,  2009],\n",
      "        [ 5913, 16124,  1775,     2,  3674, 26018]])\n",
      "Test F1 score : 0.7138569355010986\n",
      "Test Confusion Matrix : \n",
      "tensor([[14232,   857,  1460,     5,  1736,   804],\n",
      "        [ 1438, 11528,   505,     1,   582,  2213],\n",
      "        [ 1360,   252, 20064,     6,  1419,   380],\n",
      "        [  741,    38,   304,  2688,   411,    62],\n",
      "        [ 1879,   336,  2371,     5, 13224,   512],\n",
      "        [ 1579,  3814,   487,     0,   790,  6706]])\n",
      "Epoch 10 학습 및 평가 결과\n",
      "Train F1 score : 0.7362270355224609\n",
      "Train Confusion Matrix : \n",
      "tensor([[58357,  3006,  5263,    27,  6644,  3077],\n",
      "        [ 5336, 46511,  1561,     5,  2213,  9442],\n",
      "        [ 5173,   834, 80459,    32,  6046,  1377],\n",
      "        [ 2762,   122,  1008, 11153,  1703,   229],\n",
      "        [ 6804,  1104,  8039,    41, 55267,  2052],\n",
      "        [ 5828, 13030,  1646,     3,  3152, 29847]])\n",
      "Test F1 score : 0.7406828999519348\n",
      "Test Confusion Matrix : \n",
      "tensor([[14153,   789,  1261,     9,  1816,  1066],\n",
      "        [ 1186, 11352,   436,     1,   554,  2738],\n",
      "        [ 1200,   220, 19993,     7,  1558,   503],\n",
      "        [  569,    32,   242,  2957,   357,    87],\n",
      "        [ 1656,   293,  2023,    13, 13687,   655],\n",
      "        [ 1333,  2777,   409,     1,   710,  8146]])\n",
      "Epoch 11 학습 및 평가 결과\n",
      "Train F1 score : 0.7560707330703735\n",
      "Train Confusion Matrix : \n",
      "tensor([[59140,  2845,  4853,    28,  6326,  3182],\n",
      "        [ 5003, 46844,  1489,     5,  1979,  9748],\n",
      "        [ 4881,   825, 80966,    38,  5831,  1380],\n",
      "        [ 2422,   108,   898, 11872,  1438,   239],\n",
      "        [ 6615,  1010,  7376,    55, 56185,  2066],\n",
      "        [ 5527, 10939,  1555,     7,  2775, 32703]])\n",
      "Test F1 score : 0.7546103000640869\n",
      "Test Confusion Matrix : \n",
      "tensor([[14403,   791,  1157,    12,  1711,  1020],\n",
      "        [ 1179, 11603,   411,     2,   511,  2561],\n",
      "        [ 1174,   238, 20025,    13,  1557,   474],\n",
      "        [  523,    34,   204,  3094,   313,    76],\n",
      "        [ 1646,   298,  1822,    17, 13945,   599],\n",
      "        [ 1349,  2600,   387,     1,   669,  8370]])\n",
      "Epoch 12 학습 및 평가 결과\n",
      "Train F1 score : 0.7710130214691162\n",
      "Train Confusion Matrix : \n",
      "tensor([[59771,  2635,  4542,    36,  6153,  3237],\n",
      "        [ 4714, 47249,  1431,     7,  1820,  9847],\n",
      "        [ 4576,   802, 81462,    49,  5617,  1415],\n",
      "        [ 2126,   115,   800, 12443,  1267,   226],\n",
      "        [ 6421,   991,  6795,    62, 57015,  2023],\n",
      "        [ 5392,  9514,  1469,    11,  2550, 34570]])\n",
      "Test F1 score : 0.7639789581298828\n",
      "Test Confusion Matrix : \n",
      "tensor([[14783,   846,  1153,    11,  1545,   756],\n",
      "        [ 1190, 12087,   438,     2,   461,  2089],\n",
      "        [ 1197,   273, 20236,    11,  1385,   379],\n",
      "        [  500,    36,   201,  3204,   242,    61],\n",
      "        [ 1724,   317,  1860,    17, 13910,   499],\n",
      "        [ 1478,  2819,   413,     3,   612,  8051]])\n",
      "Epoch 13 학습 및 평가 결과\n",
      "Train F1 score : 0.781947135925293\n",
      "Train Confusion Matrix : \n",
      "tensor([[60502,  2544,  4239,    43,  5852,  3194],\n",
      "        [ 4514, 47840,  1392,    12,  1656,  9654],\n",
      "        [ 4448,   815, 81759,    61,  5479,  1359],\n",
      "        [ 1916,   101,   728, 12913,  1102,   217],\n",
      "        [ 6324,   948,  6441,    77, 57566,  1951],\n",
      "        [ 5254,  8957,  1425,    18,  2341, 35511]])\n",
      "Test F1 score : 0.7731480002403259\n",
      "Test Confusion Matrix : \n",
      "tensor([[14744,   748,  1044,    11,  1666,   881],\n",
      "        [ 1119, 11923,   410,     6,   466,  2343],\n",
      "        [ 1155,   241, 20145,    14,  1521,   405],\n",
      "        [  431,    32,   183,  3289,   244,    65],\n",
      "        [ 1645,   272,  1644,    22, 14232,   512],\n",
      "        [ 1389,  2346,   376,     3,   635,  8627]])\n",
      "Epoch 14 학습 및 평가 결과\n",
      "Train F1 score : 0.7916973829269409\n",
      "Train Confusion Matrix : \n",
      "tensor([[60986,  2403,  4013,    46,  5654,  3272],\n",
      "        [ 4225, 48122,  1334,    16,  1586,  9785],\n",
      "        [ 4267,   819, 82079,    64,  5328,  1364],\n",
      "        [ 1708,   109,   707, 13265,   975,   213],\n",
      "        [ 6149,   909,  6073,    79, 58147,  1950],\n",
      "        [ 5062,  8122,  1381,    21,  2156, 36764]])\n",
      "Test F1 score : 0.7807998061180115\n",
      "Test Confusion Matrix : \n",
      "tensor([[14859,   721,  1069,    13,  1569,   863],\n",
      "        [ 1074, 12062,   432,     7,   424,  2268],\n",
      "        [ 1081,   242, 20351,    14,  1414,   379],\n",
      "        [  402,    37,   188,  3352,   203,    62],\n",
      "        [ 1631,   271,  1669,    18, 14242,   496],\n",
      "        [ 1359,  2257,   389,     5,   595,  8771]])\n",
      "Epoch 15 학습 및 평가 결과\n",
      "Train F1 score : 0.8001952767372131\n",
      "Train Confusion Matrix : \n",
      "tensor([[61524,  2292,  3812,    52,  5485,  3209],\n",
      "        [ 4092, 48620,  1321,    19,  1463,  9553],\n",
      "        [ 3999,   809, 82593,    79,  5118,  1323],\n",
      "        [ 1535,   107,   650, 13570,   894,   221],\n",
      "        [ 5965,   911,  5854,    84, 58681,  1812],\n",
      "        [ 4983,  7731,  1335,    31,  2020, 37406]])\n",
      "Test F1 score : 0.7883694171905518\n",
      "Test Confusion Matrix : \n",
      "tensor([[15044,   546,  1024,    14,  1432,  1034],\n",
      "        [ 1084, 11694,   423,    11,   371,  2684],\n",
      "        [ 1112,   205, 20367,    21,  1318,   458],\n",
      "        [  366,    30,   171,  3447,   159,    71],\n",
      "        [ 1713,   219,  1598,    33, 14175,   589],\n",
      "        [ 1344,  1678,   381,     6,   507,  9460]])\n"
     ]
    }
   ],
   "source": [
    "EPOCHES = 15\n",
    "results = [[], []]\n",
    "latestcm = None\n",
    "for epoch in range(EPOCHES):\n",
    "    print(f\"Epoch {epoch+1} 학습 및 평가 결과\")\n",
    "    tresult, trainloss = train(model, trainloader, optimizer, criterion, scheduler)\n",
    "    evalresult, val_loss, latestcm = evaluate(model, testloader, criterion)\n",
    "    \n",
    "\n",
    "    results[0].append(tresult)\n",
    "    results[1].append(evalresult)\n",
    "    scheduler.step(val_loss)\n",
    "    \n",
    "\n",
    "    if scheduler.num_bad_epochs >= scheduler.patience:\n",
    "        print(f'Early stopping at epoch {epoch}')\n",
    "        break\n",
    "\n",
    "\n"
   ]
  },
  {
   "cell_type": "code",
   "execution_count": 70,
   "metadata": {},
   "outputs": [],
   "source": [
    "torch.save(model, './model_multi.pt')"
   ]
  },
  {
   "cell_type": "code",
   "execution_count": 64,
   "metadata": {},
   "outputs": [
    {
     "data": {
      "text/plain": [
       "['강원도', '경상도', '전라도', '제주도', '충청도', '표준어']"
      ]
     },
     "execution_count": 64,
     "metadata": {},
     "output_type": "execute_result"
    }
   ],
   "source": [
    "location = gyd_train.catlabel.drop_duplicates().sort_values(by = [0])['variable'].to_list()\n",
    "location"
   ]
  },
  {
   "cell_type": "code",
   "execution_count": 69,
   "metadata": {},
   "outputs": [
    {
     "data": {
      "image/png": "[encoded data removed]",
      "text/plain": [
       "<Figure size 1500x500 with 3 Axes>"
      ]
     },
     "metadata": {},
     "output_type": "display_data"
    }
   ],
   "source": [
    "import matplotlib.pyplot as plt\n",
    "import koreanize_matplotlib\n",
    "from sklearn.metrics import ConfusionMatrixDisplay\n",
    "\n",
    "fig, axe = plt.subplots(1, 2, figsize=(15, 5))\n",
    "\n",
    "\n",
    "titlearg = {\n",
    "    'fontsize' : 15,\n",
    "    'fontweight' : 'bold',\n",
    "\n",
    "}\n",
    "plt.axes(axe[0])\n",
    "plt.title('F1 score', **titlearg)\n",
    "plt.plot(results[0], label='Train F1')\n",
    "plt.plot(results[1], label='Test F1')\n",
    "plt.legend()\n",
    "plt.axes(axe[1])\n",
    "plt.title('Confusion Matrix', **titlearg)\n",
    "ConfusionMatrixDisplay(latestcm / latestcm.sum(axis = 1), display_labels=location).plot(ax= axe[1])\n",
    "plt.show()"
   ]
  },
  {
   "cell_type": "code",
   "execution_count": 66,
   "metadata": {},
   "outputs": [],
   "source": [
    "# !pip install bareunpy"
   ]
  },
  {
   "cell_type": "code",
   "execution_count": 67,
   "metadata": {},
   "outputs": [
    {
     "data": {
      "text/plain": [
       "['강원도', '경상도', '전라도', '제주도', '충청도', '표준어']"
      ]
     },
     "execution_count": 67,
     "metadata": {},
     "output_type": "execute_result"
    }
   ],
   "source": [
    "location"
   ]
  },
  {
   "cell_type": "code",
   "execution_count": 74,
   "metadata": {},
   "outputs": [
    {
     "name": "stdout",
     "output_type": "stream",
     "text": [
      "tensor([[0.0723, 0.4109, 0.0378, 0.0219, 0.0449, 0.4124]],\n",
      "       grad_fn=<SoftmaxBackward0>)\n",
      "std : tensor([[-0.0309,  1.7069, -0.6800, -1.2261, -0.5079,  1.7105]],\n",
      "       grad_fn=<AddmmBackward0>), dialect : tensor([[ 0.5454, -1.1810,  0.2735,  1.7223, -0.2544, -0.9329]],\n",
      "       grad_fn=<AddmmBackward0>)\n",
      "std : 표준어, dialect : 제주도\n",
      "std : 한국보건복지인재원은 2004년에 설립돼 국내 보건복지 종사자, 공무원, 사회복무요원 등의 교육을 담당하는 보건의료 대표 교육기관으로 오송에 본원을 비롯해 전국 지역센터 7곳을 운영하며 연간 300만명의 교육을 담당하고 있다., dialect : 이제야 호꼼 알아지켜. 나신디는 고장이 호나 이신디…… 그 고장이 나를 질들인 거 닮은게…… 허고 왕자가 고랐다\n"
     ]
    }
   ],
   "source": [
    "stdsentence = '한국보건복지인재원은 2004년에 설립돼 국내 보건복지 종사자, 공무원, 사회복무요원 등의 교육을 담당하는 보건의료 대표 교육기관으로 오송에 본원을 비롯해 전국 지역센터 7곳을 운영하며 연간 300만명의 교육을 담당하고 있다.'\n",
    "dialectsentence = '이제야 호꼼 알아지켜. 나신디는 고장이 호나 이신디…… 그 고장이 나를 질들인 거 닮은게…… 허고 왕자가 고랐다'\n",
    "\n",
    "softmax = torch.softmax\n",
    "std = model(torch.tensor(vocab(tokenizer(stdsentence))), torch.tensor([0]))\n",
    "dialect = model(torch.tensor(vocab(tokenizer(dialectsentence))), torch.tensor([0]))\n",
    "# std = softmax(std)\n",
    "# dialect = softmax(dialect)\n",
    "\n",
    "stdloc = std.argmax().detach().numpy()\n",
    "dialectloc = dialect.argmax().detach().numpy()\n",
    "print(softmax(std, dim=1))\n",
    "\n",
    "print(f\"std : {std}, dialect : {dialect}\")\n",
    "print(f\"std : {location[stdloc]}, dialect : {location[dialectloc]}\")\n",
    "print(f'std : {stdsentence}, dialect : {dialectsentence}')\n",
    "\n"
   ]
  },
  {
   "cell_type": "code",
   "execution_count": null,
   "metadata": {},
   "outputs": [
    {
     "data": {
      "text/plain": [
       "['강원도', '경상도', '전라도', '제주도', '충청도', '표준어']"
      ]
     },
     "execution_count": 42,
     "metadata": {},
     "output_type": "execute_result"
    }
   ],
   "source": [
    "location"
   ]
  }
 ],
 "metadata": {
  "kernelspec": {
   "display_name": "EXAM_DL",
   "language": "python",
   "name": "python3"
  },
  "language_info": {
   "codemirror_mode": {
    "name": "ipython",
    "version": 3
   },
   "file_extension": ".py",
   "mimetype": "text/x-python",
   "name": "python",
   "nbconvert_exporter": "python",
   "pygments_lexer": "ipython3",
   "version": "3.9.19"
  }
 },
 "nbformat": 4,
 "nbformat_minor": 2
}
