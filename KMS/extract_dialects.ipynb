{
 "cells": [
  {
   "cell_type": "code",
   "execution_count": 5,
   "metadata": {},
   "outputs": [],
   "source": [
    "import shutil\n",
    "import os\n",
    "from zipfile import ZipFile\n",
    "\n",
    "\n",
    "\n",
    "\n",
    "# shutil.unpack_archive()"
   ]
  },
  {
   "cell_type": "code",
   "execution_count": 6,
   "metadata": {},
   "outputs": [],
   "source": [
    "\n",
    "# os.path.isdir()\n",
    "\n",
    "localnames = ['경상도', '전라도', '강원도', '제주도', '충청도']\n",
    "BASEDIR = './DATA/'\n",
    "def showzip(base = './'):\n",
    "    for objects in os.listdir(base):\n",
    "        if os.path.isdir(base + objects):\n",
    "            showzip(base + objects + '/')\n",
    "        elif os.path.basename(objects)[-4:] == '.zip':\n",
    "            # print(base + objects)\n",
    "            for name in localnames:\n",
    "                if name in objects:\n",
    "                    os.makedirs(BASEDIR + name, exist_ok=True)\n",
    "                    with ZipFile(base + objects, 'r') as zipref:\n",
    "                        zipref.extractall(BASEDIR + name)\n",
    "\n",
    "# showzip()\n",
    "    "
   ]
  },
  {
   "cell_type": "code",
   "execution_count": 7,
   "metadata": {},
   "outputs": [],
   "source": [
    "filenames = []\n",
    "for test in localnames:\n",
    "    filenames.append(os.listdir(f'{BASEDIR}{test}'))"
   ]
  },
  {
   "cell_type": "code",
   "execution_count": 10,
   "metadata": {},
   "outputs": [
    {
     "name": "stdout",
     "output_type": "stream",
     "text": [
      "./DATA/경상도/st_set1_collectorgs100_speakergs442_54_10.json 파일 오류\n",
      "unexpected character: line 712 column 11 (char 16895)\n"
     ]
    }
   ],
   "source": [
    "import json, orjson\n",
    "import pandas as pd\n",
    "from tqdm import tqdm, trange\n",
    "\n",
    "\n",
    "resulttables = [[] for x in range(len(localnames))]\n",
    "for idx, (juso, files) in enumerate(zip(localnames, filenames)):\n",
    "    for file in files:\n",
    "        with open(f'{BASEDIR}{juso}/{file}', 'r') as f:\n",
    "            try:\n",
    "                result = orjson.loads(f.read())\n",
    "                dialect = result['transcription']['dialect']\n",
    "                standard = result['transcription']['standard']\n",
    "                resulttables[idx].append([dialect, standard])\n",
    "            except Exception as e:\n",
    "                print(f'{BASEDIR}{juso}/{file} 파일 오류')\n",
    "                print(e)\n",
    "                break\n",
    "\n",
    "        \n",
    "    "
   ]
  },
  {
   "cell_type": "code",
   "execution_count": 11,
   "metadata": {},
   "outputs": [],
   "source": [
    "\n",
    "SUBDIR = 'TABLES/'\n",
    "for idx, table in enumerate(resulttables):\n",
    "    os.makedirs(BASEDIR+SUBDIR, exist_ok=True)\n",
    "    pd.DataFrame(table, columns=['사투리', '표준어']).to_csv(f'{BASEDIR}{SUBDIR}{localnames[idx]}.csv', index=False)\n",
    "    \n"
   ]
  },
  {
   "cell_type": "code",
   "execution_count": null,
   "metadata": {},
   "outputs": [],
   "source": [
    "\n",
    "    "
   ]
  }
 ],
 "metadata": {
  "kernelspec": {
   "display_name": "EXAM_DL",
   "language": "python",
   "name": "python3"
  },
  "language_info": {
   "codemirror_mode": {
    "name": "ipython",
    "version": 3
   },
   "file_extension": ".py",
   "mimetype": "text/x-python",
   "name": "python",
   "nbconvert_exporter": "python",
   "pygments_lexer": "ipython3",
   "version": "3.9.19"
  }
 },
 "nbformat": 4,
 "nbformat_minor": 2
}
