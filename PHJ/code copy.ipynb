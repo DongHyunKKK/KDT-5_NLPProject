{
 "cells": [
  {
   "cell_type": "code",
   "execution_count": 118,
   "metadata": {},
   "outputs": [],
   "source": [
    "import pandas as pd\n",
    "import numpy as np\n",
    "import matplotlib.pyplot as plt\n",
    "import torch\n",
    "import torch.nn as nn\n",
    "from torch.utils.data import Dataset, DataLoader\n",
    "from torch.optim import Adam\n",
    "import torch.nn.functional as F\n",
    "from torch.optim.lr_scheduler import StepLR\n",
    "from torch.utils.data import random_split\n",
    "from torchtext.vocab import build_vocab_from_iterator"
   ]
  },
  {
   "cell_type": "code",
   "execution_count": 2,
   "metadata": {},
   "outputs": [],
   "source": [
    "tkDF = pd.read_csv('../data/경상도.csv')"
   ]
  },
  {
   "cell_type": "code",
   "execution_count": 3,
   "metadata": {},
   "outputs": [
    {
     "name": "stdout",
     "output_type": "stream",
     "text": [
      "<class 'pandas.core.frame.DataFrame'>\n",
      "RangeIndex: 212906 entries, 0 to 212905\n",
      "Data columns (total 2 columns):\n",
      " #   Column  Non-Null Count   Dtype \n",
      "---  ------  --------------   ----- \n",
      " 0   사투리     212906 non-null  object\n",
      " 1   표준어     212906 non-null  object\n",
      "dtypes: object(2)\n",
      "memory usage: 3.2+ MB\n"
     ]
    }
   ],
   "source": [
    "tkDF.info()"
   ]
  },
  {
   "cell_type": "code",
   "execution_count": 21,
   "metadata": {},
   "outputs": [
    {
     "data": {
      "text/html": [
       "<div>\n",
       "<style scoped>\n",
       "    .dataframe tbody tr th:only-of-type {\n",
       "        vertical-align: middle;\n",
       "    }\n",
       "\n",
       "    .dataframe tbody tr th {\n",
       "        vertical-align: top;\n",
       "    }\n",
       "\n",
       "    .dataframe thead th {\n",
       "        text-align: right;\n",
       "    }\n",
       "</style>\n",
       "<table border=\"1\" class=\"dataframe\">\n",
       "  <thead>\n",
       "    <tr style=\"text-align: right;\">\n",
       "      <th></th>\n",
       "      <th>variable</th>\n",
       "      <th>value</th>\n",
       "    </tr>\n",
       "  </thead>\n",
       "  <tbody>\n",
       "    <tr>\n",
       "      <th>0</th>\n",
       "      <td>사투리</td>\n",
       "      <td>지금은 저는 비 오는 것보다는 눈을 더 적극적으로 원하는데요 대구에서는 요즘 눈이 ...</td>\n",
       "    </tr>\n",
       "    <tr>\n",
       "      <th>1</th>\n",
       "      <td>표준어</td>\n",
       "      <td>어제 저녁에는 간식을 너무 많이 먹어가지고 밥 생각이 별로 없어가지고 누룽지를 끓여...</td>\n",
       "    </tr>\n",
       "    <tr>\n",
       "      <th>2</th>\n",
       "      <td>표준어</td>\n",
       "      <td>다 큰 아들이 버스 정류장에서 넘어졌을 때 창피해 같아서 해야 할지 모르겠다</td>\n",
       "    </tr>\n",
       "    <tr>\n",
       "      <th>3</th>\n",
       "      <td>사투리</td>\n",
       "      <td>주차장 들어갈 때는 저 앞에 가서 우선 차를 세우고 어디 가시는지 말을 말려주면 됩니다.</td>\n",
       "    </tr>\n",
       "    <tr>\n",
       "      <th>4</th>\n",
       "      <td>표준어</td>\n",
       "      <td>내가 핸드폰을 사용할 수 있는 거는 다른 친구들 보다가 좀 기능을 많이 사용하는데 ...</td>\n",
       "    </tr>\n",
       "    <tr>\n",
       "      <th>5</th>\n",
       "      <td>표준어</td>\n",
       "      <td>건강을 위해 어 등산도 자주 다니고 많이 걷고 운동을 부지런히 하는 편인데 특히 어...</td>\n",
       "    </tr>\n",
       "    <tr>\n",
       "      <th>6</th>\n",
       "      <td>사투리</td>\n",
       "      <td>귀밝기 술을 한잔 마셨고요 귀가 그 밝아져서 말하는 걸 잘 듣 들으라고 하는 뜻으로...</td>\n",
       "    </tr>\n",
       "    <tr>\n",
       "      <th>7</th>\n",
       "      <td>사투리</td>\n",
       "      <td>옛날에 혼자 김장을 했는데 요즘은 힘들어가 동네 사람들하고 같이 합니다</td>\n",
       "    </tr>\n",
       "    <tr>\n",
       "      <th>8</th>\n",
       "      <td>사투리</td>\n",
       "      <td>비틀로 옷을 만들어가 입으셨다고 캤는디 옷 맹그는 과정을 알려주실랍니껴</td>\n",
       "    </tr>\n",
       "    <tr>\n",
       "      <th>9</th>\n",
       "      <td>사투리</td>\n",
       "      <td>길 건너다가 차에 째끔 저 박았는데 병원에 가서 진찰을 받아봐야 좋겠죠</td>\n",
       "    </tr>\n",
       "    <tr>\n",
       "      <th>10</th>\n",
       "      <td>사투리</td>\n",
       "      <td>그 형님하고 댕기는 열매나 남사시러블지 바짝 얘비가꼬 바짝 얘비가꼬 걸음걸이 희한하...</td>\n",
       "    </tr>\n",
       "    <tr>\n",
       "      <th>11</th>\n",
       "      <td>사투리</td>\n",
       "      <td>가재미는 잡자마자 싱싱할 때 막 썰어가 물회로 묵으만 얼마나 맛있다꼬예</td>\n",
       "    </tr>\n",
       "    <tr>\n",
       "      <th>12</th>\n",
       "      <td>사투리</td>\n",
       "      <td>콩잎파리는 가시가 있어가 껄끄럽고 뻣뻣하고 묵어보면 맛이 없어예</td>\n",
       "    </tr>\n",
       "    <tr>\n",
       "      <th>13</th>\n",
       "      <td>표준어</td>\n",
       "      <td>이 지역에서 사냥 다니시면서 직접 잡아본 길 짐승은 어떤 게 있습니까</td>\n",
       "    </tr>\n",
       "    <tr>\n",
       "      <th>14</th>\n",
       "      <td>표준어</td>\n",
       "      <td>여름 되면 뭐 이렇게 해도 그래도 보신탕 먹어야지 건강이 회복되고 참 좋다 친구들하...</td>\n",
       "    </tr>\n",
       "    <tr>\n",
       "      <th>15</th>\n",
       "      <td>사투리</td>\n",
       "      <td>겨울에 먹을 채소나 과일 같은 것은 어데 보관을 했습니껴</td>\n",
       "    </tr>\n",
       "    <tr>\n",
       "      <th>16</th>\n",
       "      <td>사투리</td>\n",
       "      <td>날쎄가 추울 때는 무루팍이 시리면 안 데이꺼네 약쑥 뜸질 좀 하이소</td>\n",
       "    </tr>\n",
       "    <tr>\n",
       "      <th>17</th>\n",
       "      <td>표준어</td>\n",
       "      <td>개인적으로 선물보다 용돈이 좋다고 생각합니다 왜냐하면 선물은 좋죠 선물이라는 단어 ...</td>\n",
       "    </tr>\n",
       "    <tr>\n",
       "      <th>18</th>\n",
       "      <td>표준어</td>\n",
       "      <td>누워만 있지 말고 빨리 일어나서 방부터 좀 치우고 쓰레기도 좀 버리고 와라</td>\n",
       "    </tr>\n",
       "    <tr>\n",
       "      <th>19</th>\n",
       "      <td>사투리</td>\n",
       "      <td>풀밭에 앉았디 까부라기한테 물렸는지 피부가 달아오르고 난리도 아니었어예</td>\n",
       "    </tr>\n",
       "  </tbody>\n",
       "</table>\n",
       "</div>"
      ],
      "text/plain": [
       "   variable                                              value\n",
       "0       사투리  지금은 저는 비 오는 것보다는 눈을 더 적극적으로 원하는데요 대구에서는 요즘 눈이 ...\n",
       "1       표준어  어제 저녁에는 간식을 너무 많이 먹어가지고 밥 생각이 별로 없어가지고 누룽지를 끓여...\n",
       "2       표준어         다 큰 아들이 버스 정류장에서 넘어졌을 때 창피해 같아서 해야 할지 모르겠다\n",
       "3       사투리  주차장 들어갈 때는 저 앞에 가서 우선 차를 세우고 어디 가시는지 말을 말려주면 됩니다.\n",
       "4       표준어  내가 핸드폰을 사용할 수 있는 거는 다른 친구들 보다가 좀 기능을 많이 사용하는데 ...\n",
       "5       표준어  건강을 위해 어 등산도 자주 다니고 많이 걷고 운동을 부지런히 하는 편인데 특히 어...\n",
       "6       사투리  귀밝기 술을 한잔 마셨고요 귀가 그 밝아져서 말하는 걸 잘 듣 들으라고 하는 뜻으로...\n",
       "7       사투리            옛날에 혼자 김장을 했는데 요즘은 힘들어가 동네 사람들하고 같이 합니다\n",
       "8       사투리            비틀로 옷을 만들어가 입으셨다고 캤는디 옷 맹그는 과정을 알려주실랍니껴\n",
       "9       사투리            길 건너다가 차에 째끔 저 박았는데 병원에 가서 진찰을 받아봐야 좋겠죠\n",
       "10      사투리  그 형님하고 댕기는 열매나 남사시러블지 바짝 얘비가꼬 바짝 얘비가꼬 걸음걸이 희한하...\n",
       "11      사투리            가재미는 잡자마자 싱싱할 때 막 썰어가 물회로 묵으만 얼마나 맛있다꼬예\n",
       "12      사투리                콩잎파리는 가시가 있어가 껄끄럽고 뻣뻣하고 묵어보면 맛이 없어예\n",
       "13      표준어             이 지역에서 사냥 다니시면서 직접 잡아본 길 짐승은 어떤 게 있습니까\n",
       "14      표준어  여름 되면 뭐 이렇게 해도 그래도 보신탕 먹어야지 건강이 회복되고 참 좋다 친구들하...\n",
       "15      사투리                    겨울에 먹을 채소나 과일 같은 것은 어데 보관을 했습니껴\n",
       "16      사투리              날쎄가 추울 때는 무루팍이 시리면 안 데이꺼네 약쑥 뜸질 좀 하이소\n",
       "17      표준어  개인적으로 선물보다 용돈이 좋다고 생각합니다 왜냐하면 선물은 좋죠 선물이라는 단어 ...\n",
       "18      표준어          누워만 있지 말고 빨리 일어나서 방부터 좀 치우고 쓰레기도 좀 버리고 와라\n",
       "19      사투리            풀밭에 앉았디 까부라기한테 물렸는지 피부가 달아오르고 난리도 아니었어예"
      ]
     },
     "execution_count": 21,
     "metadata": {},
     "output_type": "execute_result"
    }
   ],
   "source": [
    "tkDF.head(20)"
   ]
  },
  {
   "cell_type": "code",
   "execution_count": 5,
   "metadata": {},
   "outputs": [],
   "source": [
    "tkDF = pd.melt(tkDF)"
   ]
  },
  {
   "cell_type": "code",
   "execution_count": 6,
   "metadata": {},
   "outputs": [],
   "source": [
    "tkDF = tkDF.sample(frac=1).reset_index(drop=True)"
   ]
  },
  {
   "cell_type": "code",
   "execution_count": 86,
   "metadata": {},
   "outputs": [],
   "source": [
    "# 중복값 제거\n",
    "tkDF.drop_duplicates(inplace=True)"
   ]
  },
  {
   "cell_type": "code",
   "execution_count": 87,
   "metadata": {},
   "outputs": [
    {
     "data": {
      "text/plain": [
       "array(['사투리', '표준어', '표준어', ..., '사투리', '표준어', '사투리'], dtype=object)"
      ]
     },
     "execution_count": 87,
     "metadata": {},
     "output_type": "execute_result"
    }
   ],
   "source": [
    "tkDF['variable'].values"
   ]
  },
  {
   "cell_type": "code",
   "execution_count": 88,
   "metadata": {},
   "outputs": [],
   "source": [
    "import string\n",
    "\n",
    "tkDF['value'] = tkDF['value'].replace(r'[{}]'.format(string.punctuation), '', regex=True)"
   ]
  },
  {
   "cell_type": "code",
   "execution_count": 90,
   "metadata": {},
   "outputs": [],
   "source": [
    "# 한글 불용어 제거 # 어근 제거는 안함 - 사투리와 표준어 구별 사라짐\n",
    "with open('data/hangul_stopword.txt', 'r', encoding='utf-8') as f:\n",
    "    stopword_h = [line.strip() for line in f.readlines()]"
   ]
  },
  {
   "cell_type": "code",
   "execution_count": 99,
   "metadata": {},
   "outputs": [],
   "source": [
    "class dataset(Dataset):\n",
    "    def __init__(self, df):\n",
    "        super().__init__()\n",
    "        self.DF = df\n",
    "        self.label = [1 if value == '사투리' else 0 for value in self.DF['variable'].values]\n",
    "        self.text = self.DF['value'].values\n",
    "\n",
    "    def __len__(self): \n",
    "        return len(self.text)\n",
    "    \n",
    "    def __getitem__(self, idx):\n",
    "        return self.label[idx],self.text[idx]"
   ]
  },
  {
   "cell_type": "code",
   "execution_count": 100,
   "metadata": {},
   "outputs": [],
   "source": [
    "tkDS = dataset(tkDF)"
   ]
  },
  {
   "cell_type": "code",
   "execution_count": 101,
   "metadata": {},
   "outputs": [],
   "source": [
    "train_length = int(0.8 * len(tkDS))\n",
    "val_length = len(tkDS) - train_length\n",
    "trainDS, valDS = random_split(tkDS, [train_length, val_length])"
   ]
  },
  {
   "cell_type": "code",
   "execution_count": 103,
   "metadata": {},
   "outputs": [],
   "source": [
    "# 토큰 관련 특별 문자\n",
    "unk = '<UNK>'\n",
    "pad = '<PAD>'"
   ]
  },
  {
   "cell_type": "code",
   "execution_count": 115,
   "metadata": {},
   "outputs": [],
   "source": [
    "from konlpy.tag import Mecab\n",
    "mecab = Mecab()"
   ]
  },
  {
   "cell_type": "code",
   "execution_count": 120,
   "metadata": {},
   "outputs": [],
   "source": [
    "def yield_tokens(data_iter):\n",
    "    for label, text in data_iter:\n",
    "        yield mecab.morphs(text)"
   ]
  },
  {
   "cell_type": "code",
   "execution_count": 121,
   "metadata": {},
   "outputs": [],
   "source": [
    "# !pip3 install mecab-ko-msvc mecab-ko-dic-msvc"
   ]
  },
  {
   "cell_type": "code",
   "execution_count": 122,
   "metadata": {},
   "outputs": [],
   "source": [
    "VOCAB = build_vocab_from_iterator(yield_tokens(trainDS), specials=[unk, pad], special_first=True)\n",
    "\n",
    "VOCAB.set_default_index(VOCAB[unk])"
   ]
  },
  {
   "cell_type": "code",
   "execution_count": 105,
   "metadata": {},
   "outputs": [],
   "source": [
    "vocab = {}\n",
    "for idx in tkDF.index:\n",
    "    words = mecab.morphs(tkDF.loc[idx, 'value'])\n",
    "    for word in words:\n",
    "        if word not in vocab:\n",
    "            vocab[word] = 1\n",
    "        else:\n",
    "            vocab[word] += 1"
   ]
  },
  {
   "cell_type": "code",
   "execution_count": 106,
   "metadata": {},
   "outputs": [],
   "source": [
    "sorted_vocab = sorted(vocab.items(), key=lambda x: x[1], reverse=True)"
   ]
  },
  {
   "cell_type": "code",
   "execution_count": 107,
   "metadata": {},
   "outputs": [
    {
     "data": {
      "text/html": [
       "<div>\n",
       "<style scoped>\n",
       "    .dataframe tbody tr th:only-of-type {\n",
       "        vertical-align: middle;\n",
       "    }\n",
       "\n",
       "    .dataframe tbody tr th {\n",
       "        vertical-align: top;\n",
       "    }\n",
       "\n",
       "    .dataframe thead th {\n",
       "        text-align: right;\n",
       "    }\n",
       "</style>\n",
       "<table border=\"1\" class=\"dataframe\">\n",
       "  <thead>\n",
       "    <tr style=\"text-align: right;\">\n",
       "      <th></th>\n",
       "      <th>word</th>\n",
       "      <th>count</th>\n",
       "    </tr>\n",
       "  </thead>\n",
       "  <tbody>\n",
       "    <tr>\n",
       "      <th>0</th>\n",
       "      <td>고</td>\n",
       "      <td>865676</td>\n",
       "    </tr>\n",
       "    <tr>\n",
       "      <th>1</th>\n",
       "      <td>는</td>\n",
       "      <td>653175</td>\n",
       "    </tr>\n",
       "    <tr>\n",
       "      <th>2</th>\n",
       "      <td>가</td>\n",
       "      <td>450936</td>\n",
       "    </tr>\n",
       "    <tr>\n",
       "      <th>3</th>\n",
       "      <td>이</td>\n",
       "      <td>445867</td>\n",
       "    </tr>\n",
       "    <tr>\n",
       "      <th>4</th>\n",
       "      <td>에</td>\n",
       "      <td>435452</td>\n",
       "    </tr>\n",
       "    <tr>\n",
       "      <th>5</th>\n",
       "      <td>하</td>\n",
       "      <td>419068</td>\n",
       "    </tr>\n",
       "    <tr>\n",
       "      <th>6</th>\n",
       "      <td>도</td>\n",
       "      <td>342788</td>\n",
       "    </tr>\n",
       "    <tr>\n",
       "      <th>7</th>\n",
       "      <td>은</td>\n",
       "      <td>282802</td>\n",
       "    </tr>\n",
       "    <tr>\n",
       "      <th>8</th>\n",
       "      <td>을</td>\n",
       "      <td>267262</td>\n",
       "    </tr>\n",
       "    <tr>\n",
       "      <th>9</th>\n",
       "      <td>있</td>\n",
       "      <td>221719</td>\n",
       "    </tr>\n",
       "    <tr>\n",
       "      <th>10</th>\n",
       "      <td>뭐</td>\n",
       "      <td>205291</td>\n",
       "    </tr>\n",
       "    <tr>\n",
       "      <th>11</th>\n",
       "      <td>좋</td>\n",
       "      <td>159808</td>\n",
       "    </tr>\n",
       "    <tr>\n",
       "      <th>12</th>\n",
       "      <td>다</td>\n",
       "      <td>159000</td>\n",
       "    </tr>\n",
       "    <tr>\n",
       "      <th>13</th>\n",
       "      <td>면</td>\n",
       "      <td>145736</td>\n",
       "    </tr>\n",
       "    <tr>\n",
       "      <th>14</th>\n",
       "      <td>어</td>\n",
       "      <td>144200</td>\n",
       "    </tr>\n",
       "    <tr>\n",
       "      <th>15</th>\n",
       "      <td>안</td>\n",
       "      <td>142131</td>\n",
       "    </tr>\n",
       "    <tr>\n",
       "      <th>16</th>\n",
       "      <td>를</td>\n",
       "      <td>139726</td>\n",
       "    </tr>\n",
       "    <tr>\n",
       "      <th>17</th>\n",
       "      <td>들</td>\n",
       "      <td>133560</td>\n",
       "    </tr>\n",
       "    <tr>\n",
       "      <th>18</th>\n",
       "      <td>는데</td>\n",
       "      <td>133255</td>\n",
       "    </tr>\n",
       "    <tr>\n",
       "      <th>19</th>\n",
       "      <td>지</td>\n",
       "      <td>132676</td>\n",
       "    </tr>\n",
       "    <tr>\n",
       "      <th>20</th>\n",
       "      <td>거</td>\n",
       "      <td>132430</td>\n",
       "    </tr>\n",
       "    <tr>\n",
       "      <th>21</th>\n",
       "      <td>게</td>\n",
       "      <td>131700</td>\n",
       "    </tr>\n",
       "    <tr>\n",
       "      <th>22</th>\n",
       "      <td>먹</td>\n",
       "      <td>123562</td>\n",
       "    </tr>\n",
       "    <tr>\n",
       "      <th>23</th>\n",
       "      <td>나</td>\n",
       "      <td>123170</td>\n",
       "    </tr>\n",
       "    <tr>\n",
       "      <th>24</th>\n",
       "      <td>그</td>\n",
       "      <td>122068</td>\n",
       "    </tr>\n",
       "    <tr>\n",
       "      <th>25</th>\n",
       "      <td>한</td>\n",
       "      <td>118698</td>\n",
       "    </tr>\n",
       "    <tr>\n",
       "      <th>26</th>\n",
       "      <td>가지</td>\n",
       "      <td>118073</td>\n",
       "    </tr>\n",
       "    <tr>\n",
       "      <th>27</th>\n",
       "      <td>때</td>\n",
       "      <td>116823</td>\n",
       "    </tr>\n",
       "    <tr>\n",
       "      <th>28</th>\n",
       "      <td>또</td>\n",
       "      <td>112045</td>\n",
       "    </tr>\n",
       "    <tr>\n",
       "      <th>29</th>\n",
       "      <td>아</td>\n",
       "      <td>94105</td>\n",
       "    </tr>\n",
       "  </tbody>\n",
       "</table>\n",
       "</div>"
      ],
      "text/plain": [
       "   word   count\n",
       "0     고  865676\n",
       "1     는  653175\n",
       "2     가  450936\n",
       "3     이  445867\n",
       "4     에  435452\n",
       "5     하  419068\n",
       "6     도  342788\n",
       "7     은  282802\n",
       "8     을  267262\n",
       "9     있  221719\n",
       "10    뭐  205291\n",
       "11    좋  159808\n",
       "12    다  159000\n",
       "13    면  145736\n",
       "14    어  144200\n",
       "15    안  142131\n",
       "16    를  139726\n",
       "17    들  133560\n",
       "18   는데  133255\n",
       "19    지  132676\n",
       "20    거  132430\n",
       "21    게  131700\n",
       "22    먹  123562\n",
       "23    나  123170\n",
       "24    그  122068\n",
       "25    한  118698\n",
       "26   가지  118073\n",
       "27    때  116823\n",
       "28    또  112045\n",
       "29    아   94105"
      ]
     },
     "execution_count": 107,
     "metadata": {},
     "output_type": "execute_result"
    }
   ],
   "source": [
    "vocabDF = pd.DataFrame(sorted_vocab, columns=['word', 'count'])\n",
    "vocabDF.head(30)"
   ]
  },
  {
   "cell_type": "code",
   "execution_count": 108,
   "metadata": {},
   "outputs": [],
   "source": [
    "# 데이터셋용 단어사전 생성\n",
    "VOCAB = {0:unk, 1:pad}\n",
    "\n",
    "for idx in vocabDF.index:\n",
    "    VOCAB[idx+2] = vocabDF.loc[idx, 'word']"
   ]
  },
  {
   "cell_type": "code",
   "execution_count": 110,
   "metadata": {},
   "outputs": [],
   "source": [
    "# 텍스트 > 정수 인코딩\n",
    "text_pipeline = lambda x: [VOCAB.get(word, 0) for word in mecab.morphs(x)]"
   ]
  },
  {
   "cell_type": "code",
   "execution_count": 111,
   "metadata": {},
   "outputs": [],
   "source": [
    "# 배치 크기 만큼 데이터셋 반환 함수\n",
    "def collate_batch(batch):\n",
    "    label_list, text_list = [], []\n",
    "    for (_label, _text) in batch:\n",
    "        label_list.append(_label)\n",
    "        _text = text_pipeline(_text)\n",
    "        text_list.append(_text)\n",
    "\n",
    "    # 텐서화\n",
    "    label_list = torch.tensor(label_list, dtype=torch.int64)\n",
    "    text_list = torch.cat(text_list)"
   ]
  },
  {
   "cell_type": "code",
   "execution_count": 112,
   "metadata": {},
   "outputs": [],
   "source": [
    "BATCH_SIZE = 64\n",
    "trainDL = DataLoader(trainDS, batch_size=BATCH_SIZE, collate_fn=collate_batch)\n",
    "testDL = DataLoader(valDS, batch_size=BATCH_SIZE, collate_fn=collate_batch)"
   ]
  },
  {
   "cell_type": "code",
   "execution_count": 113,
   "metadata": {},
   "outputs": [
    {
     "name": "stdout",
     "output_type": "stream",
     "text": [
      "NUM_CLASSES: 2 VOCAB_SIZE: 49672\n"
     ]
    }
   ],
   "source": [
    "NUM_CLASSES = 2\n",
    "VOCAB_SIZE = len(VOCAB)\n",
    "\n",
    "print(f'NUM_CLASSES: {NUM_CLASSES} VOCAB_SIZE: {VOCAB_SIZE}')"
   ]
  },
  {
   "cell_type": "code",
   "execution_count": null,
   "metadata": {},
   "outputs": [],
   "source": [
    "class TextModel(nn.Module):\n",
    "    def __init__(self, vocab_size, embed_dim, hidden_dim, num_class):\n",
    "        super().__init__()\n",
    "        self.embedding = nn.Embedding(vocab_size, embed_dim, sparse=False) # 밀집행렬 생성\n",
    "        "
   ]
  }
 ],
 "metadata": {
  "kernelspec": {
   "display_name": "TORCH17_NLP38",
   "language": "python",
   "name": "python3"
  },
  "language_info": {
   "codemirror_mode": {
    "name": "ipython",
    "version": 3
   },
   "file_extension": ".py",
   "mimetype": "text/x-python",
   "name": "python",
   "nbconvert_exporter": "python",
   "pygments_lexer": "ipython3",
   "version": "3.8.19"
  }
 },
 "nbformat": 4,
 "nbformat_minor": 2
}
