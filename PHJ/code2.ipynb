{
 "cells": [
  {
   "cell_type": "code",
   "execution_count": 215,
   "metadata": {},
   "outputs": [],
   "source": [
    "import pandas as pd\n",
    "import numpy as np\n",
    "import matplotlib.pyplot as plt\n",
    "import torch\n",
    "import torch.nn as nn\n",
    "from torch.utils.data import Dataset, DataLoader\n",
    "from torch.optim import Adam\n",
    "import torch.nn.functional as F\n",
    "from torch.optim.lr_scheduler import ReduceLROnPlateau\n",
    "from torch.utils.data import random_split\n",
    "from torchtext.vocab import build_vocab_from_iterator\n",
    "from sklearn.model_selection import train_test_split\n",
    "# DEVICE = torch.device('cuda' if torch.cuda.is_available() else 'cpu')\n",
    "DEVICE = torch.device('cpu')"
   ]
  },
  {
   "cell_type": "code",
   "execution_count": 216,
   "metadata": {},
   "outputs": [],
   "source": [
    "tkDF = pd.read_csv('DATA/TABLES/경상도.csv')"
   ]
  },
  {
   "cell_type": "code",
   "execution_count": 217,
   "metadata": {},
   "outputs": [
    {
     "name": "stdout",
     "output_type": "stream",
     "text": [
      "<class 'pandas.core.frame.DataFrame'>\n",
      "RangeIndex: 95594 entries, 0 to 95593\n",
      "Data columns (total 2 columns):\n",
      " #   Column  Non-Null Count  Dtype \n",
      "---  ------  --------------  ----- \n",
      " 0   사투리     95594 non-null  object\n",
      " 1   표준어     95594 non-null  object\n",
      "dtypes: object(2)\n",
      "memory usage: 1.5+ MB\n"
     ]
    }
   ],
   "source": [
    "tkDF.info()"
   ]
  },
  {
   "cell_type": "code",
   "execution_count": 218,
   "metadata": {},
   "outputs": [
    {
     "data": {
      "text/html": [
       "<div>\n",
       "<style scoped>\n",
       "    .dataframe tbody tr th:only-of-type {\n",
       "        vertical-align: middle;\n",
       "    }\n",
       "\n",
       "    .dataframe tbody tr th {\n",
       "        vertical-align: top;\n",
       "    }\n",
       "\n",
       "    .dataframe thead th {\n",
       "        text-align: right;\n",
       "    }\n",
       "</style>\n",
       "<table border=\"1\" class=\"dataframe\">\n",
       "  <thead>\n",
       "    <tr style=\"text-align: right;\">\n",
       "      <th></th>\n",
       "      <th>사투리</th>\n",
       "      <th>표준어</th>\n",
       "    </tr>\n",
       "  </thead>\n",
       "  <tbody>\n",
       "    <tr>\n",
       "      <th>0</th>\n",
       "      <td>지난달 그 지난달에는 그의 거기가 어딘지 내가 그곳을 말을 모르는데 그 정신이 들에...</td>\n",
       "      <td>지난달 그 지난달에는 그의 거기가 어딘지 내가 그곳을 말을 모르는데 그 정신이 들에...</td>\n",
       "    </tr>\n",
       "    <tr>\n",
       "      <th>1</th>\n",
       "      <td>힘들어요 농사 짓는 거는 힘들고 요즘은 기계가 좋아 가지고 농사 짓기가 수월하지만도...</td>\n",
       "      <td>힘들어요 농사 짓는 거는 힘들고 요즘은 기계가 좋아 가지고 농사 짓기가 수월하지만 ...</td>\n",
       "    </tr>\n",
       "    <tr>\n",
       "      <th>2</th>\n",
       "      <td>더운 삼계탕 겉은 거는 더울 때 묵을 때는 좋지예 좋은데 묵고 나면 사람이 속도 편...</td>\n",
       "      <td>더운 삼계탕 같은 거는 더울 때 먹을 때는 좋지요 좋은데 먹고 나면 사람이 속도 편...</td>\n",
       "    </tr>\n",
       "    <tr>\n",
       "      <th>3</th>\n",
       "      <td>장 보러 가다가 비가 마이 오길래 밭두럼 엉개질까봐 밭에 가보는 길이시더</td>\n",
       "      <td>장 보러 가다가 비가 많이 오길래 밭두렁 무너질까봐 밭에 가보는 길입니다</td>\n",
       "    </tr>\n",
       "    <tr>\n",
       "      <th>4</th>\n",
       "      <td>비가 오니까 집에 어데 누전이 되는가 그건 한번 되더라고예 그래 정전될 때는 인자 ...</td>\n",
       "      <td>비가 오니까 집에 어디 누전이 되는가 그건 한번 되더라구요 그래 정전될 때는 인제 ...</td>\n",
       "    </tr>\n",
       "    <tr>\n",
       "      <th>5</th>\n",
       "      <td>우리 집에서 불편한 점은 없는데 아 그기 저기 기차역이 지나가니까 시끄러워 가지고 ...</td>\n",
       "      <td>우리 집에서 불편한 점은 없는데 아 거기 저기 기차역이 지나가니까 시끄러워 가지고 ...</td>\n",
       "    </tr>\n",
       "    <tr>\n",
       "      <th>6</th>\n",
       "      <td>부추는 부산 말로 정구지 아이가 정구지는 지짐을 해 먹으면은 제일 좋은데 그게 비가...</td>\n",
       "      <td>부추는 부산 말로 부추 아닌가요 부추는 전을 해 먹으면은 제일 좋은데 그게 비가 좀...</td>\n",
       "    </tr>\n",
       "    <tr>\n",
       "      <th>7</th>\n",
       "      <td>이 구두 하나만 계속 신고 다니니께 인자 굽이 딿아서 갈아야 되겠네</td>\n",
       "      <td>이 구두 하나만 계속 신고 다니니까 이제 굽이 닳아서 갈아야 되겠네</td>\n",
       "    </tr>\n",
       "    <tr>\n",
       "      <th>8</th>\n",
       "      <td>부추 우리 말로 정구지라고 하는데 정구지는 딱 보면은 부침개 해가지고 정구지 전 구...</td>\n",
       "      <td>부추 우리 말로 부추라고 하는데 부추는 딱 보면은 부침개 해가지고 부추 전 구워가지...</td>\n",
       "    </tr>\n",
       "    <tr>\n",
       "      <th>9</th>\n",
       "      <td>요즘 몸에 좋은 거는 별 보조식품은 없는데 인제 주로 버섯 같은 거 좀 많이 먹고 ...</td>\n",
       "      <td>요즘 몸에 좋은 거는 별 보조식품은 없는데 인제 주로 버섯 같은 거 좀 많이 먹고 ...</td>\n",
       "    </tr>\n",
       "    <tr>\n",
       "      <th>10</th>\n",
       "      <td>예 시골 좋죠 도시도 좋고 전 시골에서 자랐습니다 많이 오랜 세월 시골에서 자랐고 ...</td>\n",
       "      <td>예 시골 좋죠 도시도 좋고 전 시골에서 자랐습니다 많이 오랜 세월 시골에서 자랐고 ...</td>\n",
       "    </tr>\n",
       "    <tr>\n",
       "      <th>11</th>\n",
       "      <td>오늘 비가 올 것 같으니까 우산 챙겨 가고 잊아삐지 말고 단디 챙겨가 오너래이</td>\n",
       "      <td>오늘 비가 올 것 같으니까 우산 챙겨 가고 잊어버리지 말고 꼭 챙겨서 와라</td>\n",
       "    </tr>\n",
       "    <tr>\n",
       "      <th>12</th>\n",
       "      <td>건강을 위해서 여러 가지 좋은 운동은 못합니다마는 하나는 거의 매일 한 팔천 보 정...</td>\n",
       "      <td>건강을 위해서 여러 가지 좋은 운동은 못합니다마는 하나는 거의 매일 한 팔천 보 정...</td>\n",
       "    </tr>\n",
       "    <tr>\n",
       "      <th>13</th>\n",
       "      <td>우리는 집에서 꼬추장 덴장을 다 담아서 먹는데 우리 따른 사람들은 우린 집에서 직접...</td>\n",
       "      <td>우리는 집에서 고추장 된장을 다 담아서 먹는데 우리 다른 사람들은 우린 집에서 직접...</td>\n",
       "    </tr>\n",
       "    <tr>\n",
       "      <th>14</th>\n",
       "      <td>엣날에는 묵을 것이 없으니께 겨울에는 고도롬도 맛있다꼬 따 먹었지예</td>\n",
       "      <td>옛날에는 먹을 것이 없으니까 겨울에는 고드름도 맛있다고 따 먹었지요</td>\n",
       "    </tr>\n",
       "    <tr>\n",
       "      <th>15</th>\n",
       "      <td>지는 좋아하는 반찬이 감자 찌짓는 거 하고 또 나물 무쳤는 거 하고 또 인제 된장하...</td>\n",
       "      <td>저는 좋아하는 반찬이 감자 지진 거 하고 또 나물 무쳤는 거 하고 또 이제 된장하고...</td>\n",
       "    </tr>\n",
       "    <tr>\n",
       "      <th>16</th>\n",
       "      <td>음식 묵을 음식 묵으만 계속 설사하고 퇴하고 할 때는 물을 많이 잡수시 잡숫고 병에...</td>\n",
       "      <td>음식 먹을 음식 먹으면 계속 설사하고 토하고 할 때는 물을 많이 잡수시 잡수시고 병...</td>\n",
       "    </tr>\n",
       "    <tr>\n",
       "      <th>17</th>\n",
       "      <td>집안에 소 묵일 때 쓰는 시설이나 도굿바는 어떤 기 있습니껴</td>\n",
       "      <td>집안에 소 먹일 때 쓰는 시설이나 도구는 어떤 게 있습니까</td>\n",
       "    </tr>\n",
       "    <tr>\n",
       "      <th>18</th>\n",
       "      <td>내가 어릴 때는 우리 내가 한 도시에 안 살고 농사 짓는데 촌에 좀 살았기 때문에 ...</td>\n",
       "      <td>내가 어릴 때는 우리 내가 한 도시에 안 살고 농사 짓는데 촌에 좀 살았기 때문에 ...</td>\n",
       "    </tr>\n",
       "    <tr>\n",
       "      <th>19</th>\n",
       "      <td>겨울 지나고 그 따시믄 봄이 왔다고 느끼고 봄에는 나물 캐러 가지 나물 캐갖고 맛있...</td>\n",
       "      <td>겨울 지나고 그 따뜻하면 봄이 왔다고 느끼고 봄에는 나물 캐러 가지 나물 캐갖고 맛...</td>\n",
       "    </tr>\n",
       "  </tbody>\n",
       "</table>\n",
       "</div>"
      ],
      "text/plain": [
       "                                                  사투리  \\\n",
       "0   지난달 그 지난달에는 그의 거기가 어딘지 내가 그곳을 말을 모르는데 그 정신이 들에...   \n",
       "1   힘들어요 농사 짓는 거는 힘들고 요즘은 기계가 좋아 가지고 농사 짓기가 수월하지만도...   \n",
       "2   더운 삼계탕 겉은 거는 더울 때 묵을 때는 좋지예 좋은데 묵고 나면 사람이 속도 편...   \n",
       "3            장 보러 가다가 비가 마이 오길래 밭두럼 엉개질까봐 밭에 가보는 길이시더   \n",
       "4   비가 오니까 집에 어데 누전이 되는가 그건 한번 되더라고예 그래 정전될 때는 인자 ...   \n",
       "5   우리 집에서 불편한 점은 없는데 아 그기 저기 기차역이 지나가니까 시끄러워 가지고 ...   \n",
       "6   부추는 부산 말로 정구지 아이가 정구지는 지짐을 해 먹으면은 제일 좋은데 그게 비가...   \n",
       "7               이 구두 하나만 계속 신고 다니니께 인자 굽이 딿아서 갈아야 되겠네   \n",
       "8   부추 우리 말로 정구지라고 하는데 정구지는 딱 보면은 부침개 해가지고 정구지 전 구...   \n",
       "9   요즘 몸에 좋은 거는 별 보조식품은 없는데 인제 주로 버섯 같은 거 좀 많이 먹고 ...   \n",
       "10  예 시골 좋죠 도시도 좋고 전 시골에서 자랐습니다 많이 오랜 세월 시골에서 자랐고 ...   \n",
       "11        오늘 비가 올 것 같으니까 우산 챙겨 가고 잊아삐지 말고 단디 챙겨가 오너래이   \n",
       "12  건강을 위해서 여러 가지 좋은 운동은 못합니다마는 하나는 거의 매일 한 팔천 보 정...   \n",
       "13  우리는 집에서 꼬추장 덴장을 다 담아서 먹는데 우리 따른 사람들은 우린 집에서 직접...   \n",
       "14              엣날에는 묵을 것이 없으니께 겨울에는 고도롬도 맛있다꼬 따 먹었지예   \n",
       "15  지는 좋아하는 반찬이 감자 찌짓는 거 하고 또 나물 무쳤는 거 하고 또 인제 된장하...   \n",
       "16  음식 묵을 음식 묵으만 계속 설사하고 퇴하고 할 때는 물을 많이 잡수시 잡숫고 병에...   \n",
       "17                  집안에 소 묵일 때 쓰는 시설이나 도굿바는 어떤 기 있습니껴   \n",
       "18  내가 어릴 때는 우리 내가 한 도시에 안 살고 농사 짓는데 촌에 좀 살았기 때문에 ...   \n",
       "19  겨울 지나고 그 따시믄 봄이 왔다고 느끼고 봄에는 나물 캐러 가지 나물 캐갖고 맛있...   \n",
       "\n",
       "                                                  표준어  \n",
       "0   지난달 그 지난달에는 그의 거기가 어딘지 내가 그곳을 말을 모르는데 그 정신이 들에...  \n",
       "1   힘들어요 농사 짓는 거는 힘들고 요즘은 기계가 좋아 가지고 농사 짓기가 수월하지만 ...  \n",
       "2   더운 삼계탕 같은 거는 더울 때 먹을 때는 좋지요 좋은데 먹고 나면 사람이 속도 편...  \n",
       "3            장 보러 가다가 비가 많이 오길래 밭두렁 무너질까봐 밭에 가보는 길입니다  \n",
       "4   비가 오니까 집에 어디 누전이 되는가 그건 한번 되더라구요 그래 정전될 때는 인제 ...  \n",
       "5   우리 집에서 불편한 점은 없는데 아 거기 저기 기차역이 지나가니까 시끄러워 가지고 ...  \n",
       "6   부추는 부산 말로 부추 아닌가요 부추는 전을 해 먹으면은 제일 좋은데 그게 비가 좀...  \n",
       "7               이 구두 하나만 계속 신고 다니니까 이제 굽이 닳아서 갈아야 되겠네  \n",
       "8   부추 우리 말로 부추라고 하는데 부추는 딱 보면은 부침개 해가지고 부추 전 구워가지...  \n",
       "9   요즘 몸에 좋은 거는 별 보조식품은 없는데 인제 주로 버섯 같은 거 좀 많이 먹고 ...  \n",
       "10  예 시골 좋죠 도시도 좋고 전 시골에서 자랐습니다 많이 오랜 세월 시골에서 자랐고 ...  \n",
       "11          오늘 비가 올 것 같으니까 우산 챙겨 가고 잊어버리지 말고 꼭 챙겨서 와라  \n",
       "12  건강을 위해서 여러 가지 좋은 운동은 못합니다마는 하나는 거의 매일 한 팔천 보 정...  \n",
       "13  우리는 집에서 고추장 된장을 다 담아서 먹는데 우리 다른 사람들은 우린 집에서 직접...  \n",
       "14              옛날에는 먹을 것이 없으니까 겨울에는 고드름도 맛있다고 따 먹었지요  \n",
       "15  저는 좋아하는 반찬이 감자 지진 거 하고 또 나물 무쳤는 거 하고 또 이제 된장하고...  \n",
       "16  음식 먹을 음식 먹으면 계속 설사하고 토하고 할 때는 물을 많이 잡수시 잡수시고 병...  \n",
       "17                   집안에 소 먹일 때 쓰는 시설이나 도구는 어떤 게 있습니까  \n",
       "18  내가 어릴 때는 우리 내가 한 도시에 안 살고 농사 짓는데 촌에 좀 살았기 때문에 ...  \n",
       "19  겨울 지나고 그 따뜻하면 봄이 왔다고 느끼고 봄에는 나물 캐러 가지 나물 캐갖고 맛...  "
      ]
     },
     "execution_count": 218,
     "metadata": {},
     "output_type": "execute_result"
    }
   ],
   "source": [
    "tkDF.head(20)"
   ]
  },
  {
   "cell_type": "code",
   "execution_count": 219,
   "metadata": {},
   "outputs": [],
   "source": [
    "tkDF = pd.melt(tkDF)"
   ]
  },
  {
   "cell_type": "code",
   "execution_count": 220,
   "metadata": {},
   "outputs": [],
   "source": [
    "tkDF = tkDF.sample(frac=1).reset_index(drop=True)"
   ]
  },
  {
   "cell_type": "code",
   "execution_count": 221,
   "metadata": {},
   "outputs": [
    {
     "data": {
      "text/plain": [
       "array(['사투리', '사투리', '표준어', ..., '사투리', '표준어', '표준어'], dtype=object)"
      ]
     },
     "execution_count": 221,
     "metadata": {},
     "output_type": "execute_result"
    }
   ],
   "source": [
    "tkDF['variable'].values"
   ]
  },
  {
   "cell_type": "code",
   "execution_count": 222,
   "metadata": {},
   "outputs": [
    {
     "data": {
      "text/html": [
       "<div>\n",
       "<style scoped>\n",
       "    .dataframe tbody tr th:only-of-type {\n",
       "        vertical-align: middle;\n",
       "    }\n",
       "\n",
       "    .dataframe tbody tr th {\n",
       "        vertical-align: top;\n",
       "    }\n",
       "\n",
       "    .dataframe thead th {\n",
       "        text-align: right;\n",
       "    }\n",
       "</style>\n",
       "<table border=\"1\" class=\"dataframe\">\n",
       "  <thead>\n",
       "    <tr style=\"text-align: right;\">\n",
       "      <th></th>\n",
       "      <th>variable</th>\n",
       "      <th>value</th>\n",
       "    </tr>\n",
       "  </thead>\n",
       "  <tbody>\n",
       "    <tr>\n",
       "      <th>0</th>\n",
       "      <td>사투리</td>\n",
       "      <td>명지 끼울 때 방향이 잘못 되면 빼가 처음부터 새로 끼어야 돼요</td>\n",
       "    </tr>\n",
       "    <tr>\n",
       "      <th>1</th>\n",
       "      <td>사투리</td>\n",
       "      <td>담장은 납작한 돌삐를 가지고 쭉 이아 멩글기도 하는디 다 그렇지는 않니더</td>\n",
       "    </tr>\n",
       "    <tr>\n",
       "      <th>2</th>\n",
       "      <td>표준어</td>\n",
       "      <td>옛날에 화장실은 내가 무서워서 가지도 못하고 앉지도 못하고 밤 되면 무서워서 시골이...</td>\n",
       "    </tr>\n",
       "    <tr>\n",
       "      <th>3</th>\n",
       "      <td>표준어</td>\n",
       "      <td>한 번 한두 번 안 받아본 사람이 있겠습니다마는 심지어 근간에는 문자도 받아봤습니다...</td>\n",
       "    </tr>\n",
       "    <tr>\n",
       "      <th>4</th>\n",
       "      <td>표준어</td>\n",
       "      <td>잡곡밥을 좋아하고 된장하고 상추 좋아합니다</td>\n",
       "    </tr>\n",
       "    <tr>\n",
       "      <th>...</th>\n",
       "      <td>...</td>\n",
       "      <td>...</td>\n",
       "    </tr>\n",
       "    <tr>\n",
       "      <th>191183</th>\n",
       "      <td>사투리</td>\n",
       "      <td>건강검진은 꼭 받습니다 저는 작년에 대전서 받았습니다 대전서 하루 입원해서 전체적으...</td>\n",
       "    </tr>\n",
       "    <tr>\n",
       "      <th>191184</th>\n",
       "      <td>사투리</td>\n",
       "      <td>잔치상에 대초는 조충에 찍어 한 개씩 빙 돌려가면서 쌓으면 이쁘게 돼예</td>\n",
       "    </tr>\n",
       "    <tr>\n",
       "      <th>191185</th>\n",
       "      <td>사투리</td>\n",
       "      <td>클 때 클 때 농사 짓는 걸 보고 그런데 양파 같은 거 작업도 하고 이래 마이 해봤...</td>\n",
       "    </tr>\n",
       "    <tr>\n",
       "      <th>191186</th>\n",
       "      <td>표준어</td>\n",
       "      <td>이 절굿공이 갖고는 어려울 거 같은데 큰 떡메로 쳐야 되겠지요</td>\n",
       "    </tr>\n",
       "    <tr>\n",
       "      <th>191187</th>\n",
       "      <td>표준어</td>\n",
       "      <td>나는 용돈이 더 좋지 선물은 또 사줘도 그게 선물이 내 마음에 드는 게 있고 안 드...</td>\n",
       "    </tr>\n",
       "  </tbody>\n",
       "</table>\n",
       "<p>191188 rows × 2 columns</p>\n",
       "</div>"
      ],
      "text/plain": [
       "       variable                                              value\n",
       "0           사투리                명지 끼울 때 방향이 잘못 되면 빼가 처음부터 새로 끼어야 돼요\n",
       "1           사투리           담장은 납작한 돌삐를 가지고 쭉 이아 멩글기도 하는디 다 그렇지는 않니더\n",
       "2           표준어  옛날에 화장실은 내가 무서워서 가지도 못하고 앉지도 못하고 밤 되면 무서워서 시골이...\n",
       "3           표준어  한 번 한두 번 안 받아본 사람이 있겠습니다마는 심지어 근간에는 문자도 받아봤습니다...\n",
       "4           표준어                            잡곡밥을 좋아하고 된장하고 상추 좋아합니다\n",
       "...         ...                                                ...\n",
       "191183      사투리  건강검진은 꼭 받습니다 저는 작년에 대전서 받았습니다 대전서 하루 입원해서 전체적으...\n",
       "191184      사투리            잔치상에 대초는 조충에 찍어 한 개씩 빙 돌려가면서 쌓으면 이쁘게 돼예\n",
       "191185      사투리  클 때 클 때 농사 짓는 걸 보고 그런데 양파 같은 거 작업도 하고 이래 마이 해봤...\n",
       "191186      표준어                 이 절굿공이 갖고는 어려울 거 같은데 큰 떡메로 쳐야 되겠지요\n",
       "191187      표준어  나는 용돈이 더 좋지 선물은 또 사줘도 그게 선물이 내 마음에 드는 게 있고 안 드...\n",
       "\n",
       "[191188 rows x 2 columns]"
      ]
     },
     "execution_count": 222,
     "metadata": {},
     "output_type": "execute_result"
    }
   ],
   "source": [
    "tkDF"
   ]
  },
  {
   "cell_type": "code",
   "execution_count": 223,
   "metadata": {},
   "outputs": [],
   "source": [
    "import string\n",
    "\n",
    "tkDF['value'] = tkDF['value'].replace(r'[{}]'.format(string.punctuation), '', regex=True)"
   ]
  },
  {
   "cell_type": "code",
   "execution_count": 224,
   "metadata": {},
   "outputs": [
    {
     "name": "stdout",
     "output_type": "stream",
     "text": [
      "<class 'pandas.core.frame.DataFrame'>\n",
      "RangeIndex: 191188 entries, 0 to 191187\n",
      "Data columns (total 2 columns):\n",
      " #   Column    Non-Null Count   Dtype \n",
      "---  ------    --------------   ----- \n",
      " 0   variable  191188 non-null  object\n",
      " 1   value     191188 non-null  object\n",
      "dtypes: object(2)\n",
      "memory usage: 2.9+ MB\n"
     ]
    }
   ],
   "source": [
    "tkDF.info()"
   ]
  },
  {
   "cell_type": "code",
   "execution_count": 225,
   "metadata": {},
   "outputs": [],
   "source": [
    "class CustomDataset(Dataset):\n",
    "    def __init__(self, xdata, ydata):\n",
    "        super().__init__()\n",
    "        self.text = list(xdata.values) if isinstance(xdata, pd.DataFrame) else list(xdata)\n",
    "        self.label = [1 if value == '사투리' else 0 for value in ydata.values] if isinstance(ydata, pd.DataFrame) else [1 if value == '사투리' else 0 for value in ydata]\n",
    "\n",
    "    def __len__(self): \n",
    "        return len(self.text)\n",
    "    \n",
    "    def __getitem__(self, idx):\n",
    "        return self.label[idx], self.text[idx]\n"
   ]
  },
  {
   "cell_type": "code",
   "execution_count": 266,
   "metadata": {},
   "outputs": [
    {
     "data": {
      "text/plain": [
       "191188"
      ]
     },
     "execution_count": 266,
     "metadata": {},
     "output_type": "execute_result"
    }
   ],
   "source": [
    "tkDS = CustomDataset(tkDF.value,tkDF.variable)\n",
    "len(tkDS)"
   ]
  },
  {
   "cell_type": "code",
   "execution_count": 226,
   "metadata": {},
   "outputs": [],
   "source": [
    "X_train, X_test, y_train, y_test = train_test_split(tkDF.value,tkDF.variable  , test_size=0.2, random_state=42, stratify=tkDF.variable)"
   ]
  },
  {
   "cell_type": "code",
   "execution_count": 227,
   "metadata": {},
   "outputs": [],
   "source": [
    "trainDS = CustomDataset(X_train, y_train)\n",
    "valDS = CustomDataset(X_test, y_test)"
   ]
  },
  {
   "cell_type": "code",
   "execution_count": 228,
   "metadata": {},
   "outputs": [
    {
     "data": {
      "text/plain": [
       "0    76475\n",
       "1    76475\n",
       "dtype: int64"
      ]
     },
     "execution_count": 228,
     "metadata": {},
     "output_type": "execute_result"
    }
   ],
   "source": [
    "pd.DataFrame(trainDS.label).value_counts()"
   ]
  },
  {
   "cell_type": "code",
   "execution_count": 229,
   "metadata": {},
   "outputs": [
    {
     "data": {
      "text/plain": [
       "0    19119\n",
       "1    19119\n",
       "dtype: int64"
      ]
     },
     "execution_count": 229,
     "metadata": {},
     "output_type": "execute_result"
    }
   ],
   "source": [
    "pd.DataFrame(valDS.label).value_counts()"
   ]
  },
  {
   "cell_type": "code",
   "execution_count": 230,
   "metadata": {},
   "outputs": [],
   "source": [
    "# train_length = int(0.8 * len(tkDS))\n",
    "# val_length = len(tkDS) - train_length\n",
    "# trainDS, valDS = random_split(tkDS, [train_length, val_length])"
   ]
  },
  {
   "cell_type": "code",
   "execution_count": 231,
   "metadata": {},
   "outputs": [],
   "source": [
    "# 토큰 관련 특별 문자\n",
    "unk = '<UNK>'\n",
    "pad = '<PAD>'"
   ]
  },
  {
   "cell_type": "code",
   "execution_count": 232,
   "metadata": {},
   "outputs": [],
   "source": [
    "from konlpy.tag import Mecab\n",
    "mecab = Mecab()"
   ]
  },
  {
   "cell_type": "code",
   "execution_count": 233,
   "metadata": {},
   "outputs": [],
   "source": [
    "# 한글 불용어 제거 # 어근 제거는 안함 - 사투리와 표준어 구별 사라짐\n",
    "def torkenizer(text):\n",
    "    with open('DATA/hangul_stopword.txt', 'r', encoding='utf-8') as f:\n",
    "        stopword_h = {line.strip() for line in f.readlines()} \n",
    "    token = mecab.morphs(text)\n",
    "    token = [word for word in token if word not in stopword_h] \n",
    "    return token\n"
   ]
  },
  {
   "cell_type": "code",
   "execution_count": 234,
   "metadata": {},
   "outputs": [],
   "source": [
    "def yield_tokens(data_iter):\n",
    "    for label, text in data_iter:\n",
    "        yield torkenizer(text)"
   ]
  },
  {
   "cell_type": "code",
   "execution_count": 235,
   "metadata": {},
   "outputs": [],
   "source": [
    "# !pip3 install mecab-ko-msvc mecab-ko-dic-msvc"
   ]
  },
  {
   "cell_type": "code",
   "execution_count": 236,
   "metadata": {},
   "outputs": [],
   "source": [
    "VOCAB = build_vocab_from_iterator(yield_tokens(trainDS), specials=[unk, pad], special_first=True)\n",
    "\n",
    "VOCAB.set_default_index(VOCAB[unk])"
   ]
  },
  {
   "cell_type": "code",
   "execution_count": 237,
   "metadata": {},
   "outputs": [
    {
     "data": {
      "text/plain": [
       "[122]"
      ]
     },
     "execution_count": 237,
     "metadata": {},
     "output_type": "execute_result"
    }
   ],
   "source": [
    "VOCAB(['마'])"
   ]
  },
  {
   "cell_type": "code",
   "execution_count": 238,
   "metadata": {},
   "outputs": [],
   "source": [
    "# 텍스트 > 정수 인코딩\n",
    "text_pipeline = lambda x: VOCAB(torkenizer(x))"
   ]
  },
  {
   "cell_type": "code",
   "execution_count": 239,
   "metadata": {},
   "outputs": [],
   "source": [
    "# 인코딩\n",
    "token2id = {label: id for id, label in enumerate(VOCAB.get_itos())}\n",
    "# 디코딩\n",
    "id2token = {id: label for id, label in enumerate(VOCAB.get_itos())}"
   ]
  },
  {
   "cell_type": "code",
   "execution_count": 240,
   "metadata": {},
   "outputs": [],
   "source": [
    "# 배치 크기 만큼 데이터셋 반환 함수\n",
    "def collate_batch(batch):\n",
    "\n",
    "    label_list, text_list, offsets = [], [], [0] \n",
    "\n",
    "    for (_label, _text) in batch:\n",
    "\n",
    "        label_list.append(_label)\n",
    "\n",
    "        processed_text = torch.tensor(text_pipeline(_text), dtype=torch.int64)\n",
    "        text_list.append(processed_text)\n",
    "\n",
    "        offsets.append(processed_text.size(0))\n",
    "\n",
    "    # 텐서화 진행\n",
    "    label_list = torch.tensor(label_list, dtype=torch.int64)\n",
    "    offsets = torch.tensor(offsets[:-1]).cumsum(dim=0) # 누적값 -> 전체 갯수\n",
    "    text_list = torch.cat(text_list)\n",
    "    \n",
    "    return label_list.to(DEVICE), text_list.to(DEVICE), offsets.to(DEVICE)"
   ]
  },
  {
   "cell_type": "code",
   "execution_count": 267,
   "metadata": {},
   "outputs": [],
   "source": [
    "BATCH_SIZE = 128\n",
    "trainDL = DataLoader(trainDS, batch_size=BATCH_SIZE, collate_fn=collate_batch, num_workers=64)\n",
    "testDL = DataLoader(valDS, batch_size=BATCH_SIZE, collate_fn=collate_batch, num_workers=64)"
   ]
  },
  {
   "cell_type": "code",
   "execution_count": 268,
   "metadata": {},
   "outputs": [
    {
     "name": "stdout",
     "output_type": "stream",
     "text": [
      "NUM_CLASSES: 1 VOCAB_SIZE: 35616\n"
     ]
    }
   ],
   "source": [
    "NUM_CLASSE = 1\n",
    "VOCAB_SIZE = len(VOCAB)\n",
    "NUM_LAYER = 1\n",
    "print(f'NUM_CLASSES: {NUM_CLASSE} VOCAB_SIZE: {VOCAB_SIZE}')"
   ]
  },
  {
   "cell_type": "code",
   "execution_count": 269,
   "metadata": {},
   "outputs": [],
   "source": [
    "class TextModel(nn.Module):\n",
    "    def __init__(self, vocab_size, embedding_dim, hidden_size, num_class):\n",
    "        super(TextModel, self).__init__()\n",
    "        self.embedding = nn.EmbeddingBag(vocab_size, embedding_dim, sparse=False)\n",
    "        self.rnn = nn.GRU(embedding_dim, hidden_size, NUM_LAYER, batch_first=True)\n",
    "        self.dropout = nn.Dropout(p=0.2)  # 드롭아웃 레이어 추가\n",
    "        self.fc = nn.Linear(hidden_size, num_class)\n",
    "        self.init_weights()\n",
    "\n",
    "    def init_weights(self):\n",
    "        initrange = 0.5\n",
    "        self.embedding.weight.data.uniform_(-initrange, initrange)\n",
    "        self.fc.weight.data.uniform_(-initrange, initrange)\n",
    "        self.fc.bias.data.zero_()\n",
    "\n",
    "    def forward(self, text, offsets):\n",
    "        embedded = self.embedding(text, offsets)\n",
    "        output, hidden = self.rnn(embedded)\n",
    "        output = self.dropout(output) \n",
    "        return self.fc(output)\n"
   ]
  },
  {
   "cell_type": "code",
   "execution_count": 270,
   "metadata": {},
   "outputs": [],
   "source": [
    "HIDDEN_SIZE = 3\n",
    "EMBEDDING_DIM = 64\n",
    "VOCAB_SIZE = len(VOCAB)\n",
    "EPOCHS = 30\n",
    "LR = 0.01"
   ]
  },
  {
   "cell_type": "code",
   "execution_count": 271,
   "metadata": {},
   "outputs": [],
   "source": [
    "# 학습 관련 인스턴스\n",
    "MODEL = TextModel(VOCAB_SIZE, EMBEDDING_DIM, HIDDEN_SIZE, NUM_CLASSE).to(DEVICE)\n",
    "\n",
    "CRITERION = nn.BCEWithLogitsLoss()\n",
    "OPTIMIZER = torch.optim.Adam(MODEL.parameters(), lr=LR)\n",
    "SCHEDULER = torch.optim.lr_scheduler.ReduceLROnPlateau(OPTIMIZER)"
   ]
  },
  {
   "cell_type": "code",
   "execution_count": 272,
   "metadata": {},
   "outputs": [],
   "source": [
    "from torchmetrics.classification import BinaryF1Score"
   ]
  },
  {
   "cell_type": "code",
   "execution_count": 273,
   "metadata": {},
   "outputs": [],
   "source": [
    "def train(model, DL, loss_fn, optimizer):\n",
    "    model.train()\n",
    "    lossList = []\n",
    "\n",
    "    f1 = BinaryF1Score()\n",
    "\n",
    "    for label, text, offset in DL: \n",
    "        label = label.to(DEVICE)\n",
    "        text = text.to(DEVICE)  \n",
    "        offset = offset.to(DEVICE)\n",
    "        \n",
    "        output = model(text, offset)\n",
    "\n",
    "        target = label.unsqueeze(1).float()  # [배치 크기, 1] 형태로 변환\n",
    "        \n",
    "        loss = loss_fn(output, target)\n",
    "\n",
    "        optimizer.zero_grad()\n",
    "        loss.backward()\n",
    "        optimizer.step()\n",
    "\n",
    "        lossList.append(loss.item())\n",
    "        \n",
    "        f1(output, target)\n",
    "\n",
    "    train_loss = np.mean(lossList)\n",
    "    train_f1 = f1.compute().cpu().item()\n",
    "\n",
    "    print(f'[Train loss] ==> {train_loss:.4f}    [Train F1 Score] ==> {train_f1:4f}')\n",
    "    return train_loss, train_f1"
   ]
  },
  {
   "cell_type": "code",
   "execution_count": 274,
   "metadata": {},
   "outputs": [],
   "source": [
    "def evaluate(model, DL, loss_fn):\n",
    "    model.eval()\n",
    "    losses = []\n",
    "    \n",
    "    f1 = BinaryF1Score()\n",
    "\n",
    "    with torch.no_grad():\n",
    "        for label, text, offset in DL: \n",
    "            label = label.to(DEVICE)\n",
    "            text = text.to(DEVICE)\n",
    "            offset = offset.to(DEVICE)\n",
    "            \n",
    "            output = model(text, offset)\n",
    "\n",
    "            \n",
    "            target = label.unsqueeze(1).float()  # [배치 크기, 1] 형태로 변환\n",
    "            \n",
    "            loss = loss_fn(output, target)\n",
    "            losses.append(loss.item())\n",
    "\n",
    "            f1(output, target)\n",
    "        \n",
    "    val_loss = np.mean(losses)\n",
    "    val_f1 = f1.compute().cpu().item()\n",
    "\n",
    "    print(f'[Valid loss] ==> {val_loss:4f}    [Valid F1 Score] ==> {val_f1:4f}')\n",
    "    return val_loss, val_f1"
   ]
  },
  {
   "cell_type": "code",
   "execution_count": 275,
   "metadata": {},
   "outputs": [],
   "source": [
    "def predict(model, text, text_pipeline):\n",
    "    with torch.no_grad():\n",
    "        # 토큰화 > 정수 변환 > 텐서\n",
    "        text = torch.tensor(text_pipeline(text), dtype=torch.int64).to(DEVICE)\n",
    "        text = text.unsqueeze(0)\n",
    "        offsets = torch.tensor([0]).DEVICE       \n",
    "        predicted_label = model(text, offsets)\n",
    "        return predicted_label.argmax(1).item() + 1"
   ]
  },
  {
   "cell_type": "code",
   "execution_count": 276,
   "metadata": {},
   "outputs": [],
   "source": [
    "def grahp(train_report,val_report):\n",
    "    fig, ax1 = plt.subplots()  # fig는 그래프 객체\n",
    "\n",
    "    # 손실 그래프 그리기\n",
    "    ax1.plot(train_report[0], label='Train Loss', color='red')\n",
    "    ax1.plot(val_report[0], label='Validation Loss', color='orange')\n",
    "    ax1.set_ylabel('Loss')\n",
    "    ax1.set_xlabel('Epoch')\n",
    "    ax1.tick_params(axis='y')\n",
    "    ax1.legend(loc='upper left')\n",
    "    \n",
    "    # 정확도 그래프 그리기\n",
    "    ax2 = ax1.twinx()\n",
    "    ax2.plot(train_report[1], label='Train F1 Score', color='blue')\n",
    "    ax2.plot(val_report[1], label='Validation F1 Score', color='green')\n",
    "    ax2.set_ylabel('F1 Score')\n",
    "    ax2.set_xlabel('Epoch')\n",
    "    ax2.tick_params(axis='y')\n",
    "    ax2.legend(loc='upper right')\n",
    "    \n",
    "    plt.xlabel('Epoch')  # 전체 그래프의 x축 라벨 설정\n",
    "    plt.title('Train & Validation Scores')\n",
    "    plt.show()"
   ]
  },
  {
   "cell_type": "code",
   "execution_count": 277,
   "metadata": {},
   "outputs": [
    {
     "name": "stdout",
     "output_type": "stream",
     "text": [
      "[Epoch 1/30]\n",
      "[Train loss] ==> 0.3688    [Train F1 Score] ==> 0.827874\n",
      "[Valid loss] ==> 0.320722    [Valid F1 Score] ==> 0.841044\n",
      "[Epoch 2/30]\n",
      "[Train loss] ==> 0.3066    [Train F1 Score] ==> 0.865298\n",
      "[Valid loss] ==> 0.333709    [Valid F1 Score] ==> 0.835489\n",
      "[Epoch 3/30]\n",
      "[Train loss] ==> 0.2719    [Train F1 Score] ==> 0.889604\n",
      "[Valid loss] ==> 0.365222    [Valid F1 Score] ==> 0.831136\n",
      "[Epoch 4/30]\n",
      "[Train loss] ==> 0.2468    [Train F1 Score] ==> 0.906734\n",
      "[Valid loss] ==> 0.400279    [Valid F1 Score] ==> 0.827500\n",
      "[Epoch 5/30]\n",
      "[Train loss] ==> 0.2335    [Train F1 Score] ==> 0.914954\n",
      "[Valid loss] ==> 0.417036    [Valid F1 Score] ==> 0.828632\n",
      "[Epoch 6/30]\n",
      "[Train loss] ==> 0.2250    [Train F1 Score] ==> 0.919840\n",
      "[Valid loss] ==> 0.431170    [Valid F1 Score] ==> 0.825489\n",
      "[Epoch 7/30]\n",
      "[Train loss] ==> 0.2180    [Train F1 Score] ==> 0.922390\n",
      "[Valid loss] ==> 0.442571    [Valid F1 Score] ==> 0.827682\n",
      "[Epoch 8/30]\n",
      "[Train loss] ==> 0.2140    [Train F1 Score] ==> 0.925048\n",
      "[Valid loss] ==> 0.450678    [Valid F1 Score] ==> 0.824850\n",
      "[Epoch 9/30]\n",
      "[Train loss] ==> 0.2097    [Train F1 Score] ==> 0.926130\n",
      "[Valid loss] ==> 0.459908    [Valid F1 Score] ==> 0.825533\n",
      "[Epoch 10/30]\n",
      "[Train loss] ==> 0.2062    [Train F1 Score] ==> 0.927817\n",
      "[Valid loss] ==> 0.467711    [Valid F1 Score] ==> 0.825322\n",
      "[Epoch 11/30]\n",
      "[Train loss] ==> 0.2057    [Train F1 Score] ==> 0.927621\n",
      "[Valid loss] ==> 0.476916    [Valid F1 Score] ==> 0.823739\n",
      "Early Stopping at 11\n"
     ]
    }
   ],
   "source": [
    "# 학습 및 검증 진행\n",
    "train_ = [[],[]]\n",
    "test_ = [[],[]]\n",
    "\n",
    "min_loss = float('inf')\n",
    "\n",
    "for epoch in range(1, EPOCHS+1):\n",
    "    print(f'[Epoch {epoch}/{EPOCHS}]')\n",
    "    train_loss, train_f1 = train(MODEL, trainDL, CRITERION, OPTIMIZER)\n",
    "    val_loss, val_f1 = evaluate(MODEL, testDL, CRITERION)\n",
    "\n",
    "    train_[0].append(train_loss)\n",
    "    train_[1].append(train_f1)\n",
    "    test_[0].append(val_loss)\n",
    "    test_[1].append(val_f1)\n",
    "\n",
    "    SCHEDULER.step(val_loss)\n",
    "\n",
    "    if min_loss > val_loss:\n",
    "        min_loss = val_loss\n",
    "        torch.save(MODEL, 'model.tkLang.pt')\n",
    "    if SCHEDULER.num_bad_epochs >= SCHEDULER.patience:\n",
    "        print(f'Early Stopping at {epoch}')\n",
    "        torch.save(MODEL, 'model.tkLang.pt')\n",
    "        break"
   ]
  },
  {
   "cell_type": "code",
   "execution_count": 278,
   "metadata": {},
   "outputs": [
    {
     "data": {
      "image/png": "[encoded data removed]",
      "text/plain": [
       "<Figure size 640x480 with 2 Axes>"
      ]
     },
     "metadata": {},
     "output_type": "display_data"
    }
   ],
   "source": [
    "grahp(train_,test_)"
   ]
  },
  {
   "cell_type": "code",
   "execution_count": null,
   "metadata": {},
   "outputs": [],
   "source": []
  },
  {
   "cell_type": "code",
   "execution_count": null,
   "metadata": {},
   "outputs": [],
   "source": []
  }
 ],
 "metadata": {
  "kernelspec": {
   "display_name": "TORCH17_NLP38",
   "language": "python",
   "name": "python3"
  },
  "language_info": {
   "codemirror_mode": {
    "name": "ipython",
    "version": 3
   },
   "file_extension": ".py",
   "mimetype": "text/x-python",
   "name": "python",
   "nbconvert_exporter": "python",
   "pygments_lexer": "ipython3",
   "version": "3.9.19"
  }
 },
 "nbformat": 4,
 "nbformat_minor": 2
}
